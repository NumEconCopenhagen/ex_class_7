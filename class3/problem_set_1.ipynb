{
 "cells": [
  {
   "cell_type": "markdown",
   "metadata": {},
   "source": [
    "<hr>\n",
    "\n",
    "\n",
    "\n",
    "# Ex. 1"
   ]
  },
  {
   "cell_type": "markdown",
   "metadata": {},
   "source": [
    "Implement a Python version of this function:"
   ]
  },
  {
   "cell_type": "markdown",
   "metadata": {},
   "source": [
    "$$ \n",
    "u(x_1,x_2) = (\\alpha x_1^{-\\beta} + (1-\\alpha) x_2^{-\\beta})^{-1/\\beta} \n",
    "$$"
   ]
  },
  {
   "cell_type": "code",
   "execution_count": 1,
   "metadata": {},
   "outputs": [],
   "source": [
    "import numpy as np"
   ]
  },
  {
   "cell_type": "code",
   "execution_count": 2,
   "metadata": {},
   "outputs": [],
   "source": [
    "def utility(x1,x2,alpha=0.5,beta=1):\n",
    "    return (alpha*x1**(-beta) + (1-alpha)*x2**(-beta))**(-1/beta)"
   ]
  },
  {
   "cell_type": "markdown",
   "metadata": {},
   "source": [
    "<hr>\n",
    "\n",
    "# Ex. 2\n",
    "Construct a Python function `print_table(x1_vec,x2_vec)` to print values of `u(x1,x2)` in the table form shown below."
   ]
  },
  {
   "cell_type": "code",
   "execution_count": 3,
   "metadata": {},
   "outputs": [],
   "source": [
    "x1_vec = [1.05,1.3,2.3,2.5,3.1]\n",
    "x2_vec = [1.05,1.3,2.3,2.5,3.1]"
   ]
  },
  {
   "cell_type": "code",
   "execution_count": 4,
   "metadata": {},
   "outputs": [],
   "source": [
    "import time"
   ]
  },
  {
   "cell_type": "code",
   "execution_count": 5,
   "metadata": {},
   "outputs": [
    {
     "name": "stdout",
     "output_type": "stream",
     "text": [
      "        0     1     2     3     4\n",
      "  0  1.050 1.162 1.442 1.479 1.569 \n",
      " _______________________________________ \n",
      "\n",
      "        0     1     2     3     4\n",
      "  0  1.050 1.162 1.442 1.479 1.569\n",
      "  1  1.162 1.300 1.661 1.711 1.832 \n",
      " _______________________________________ \n",
      "\n",
      "        0     1     2     3     4\n",
      "  0  1.050 1.162 1.442 1.479 1.569\n",
      "  1  1.162 1.300 1.661 1.711 1.832\n",
      "  2  1.442 1.661 2.300 2.396 2.641 \n",
      " _______________________________________ \n",
      "\n",
      "        0     1     2     3     4\n",
      "  0  1.050 1.162 1.442 1.479 1.569\n",
      "  1  1.162 1.300 1.661 1.711 1.832\n",
      "  2  1.442 1.661 2.300 2.396 2.641\n",
      "  3  1.479 1.711 2.396 2.500 2.768 \n",
      " _______________________________________ \n",
      "\n",
      "        0     1     2     3     4\n",
      "  0  1.050 1.162 1.442 1.479 1.569\n",
      "  1  1.162 1.300 1.661 1.711 1.832\n",
      "  2  1.442 1.661 2.300 2.396 2.641\n",
      "  3  1.479 1.711 2.396 2.500 2.768\n",
      "  4  1.569 1.832 2.641 2.768 3.100 \n",
      " _______________________________________ \n",
      "\n",
      "Result \n",
      "         0     1     2     3     4\n",
      "  0  1.050 1.162 1.442 1.479 1.569\n",
      "  1  1.162 1.300 1.661 1.711 1.832\n",
      "  2  1.442 1.661 2.300 2.396 2.641\n",
      "  3  1.479 1.711 2.396 2.500 2.768\n",
      "  4  1.569 1.832 2.641 2.768 3.100\n"
     ]
    }
   ],
   "source": [
    "def print_table(x1_vec,x2_vec):\n",
    "    \n",
    "    # container\n",
    "    text = ''\n",
    "\n",
    "    # create top header\n",
    "    text += f'{\"\":3s}'\n",
    "    for j, x2 in enumerate(x2_vec):\n",
    "        text += f'{j:6d}' \n",
    "    text += '\\n' # line shift\n",
    "    \n",
    "    # body\n",
    "    for i,x1 in enumerate(x1_vec):\n",
    "        if i > 0:\n",
    "            text += '\\n' # line shift if i>0, hence new line in the 'table' with new header value\n",
    "        text += f'{i:3d} ' # add left header\n",
    "        \n",
    "        # add the resulting utility\n",
    "        for j, x2 in enumerate(x2_vec):\n",
    "            text += f'{utility(x1,x2):6.3f}'\n",
    "        \n",
    "        # print intermediate result and see how it works\n",
    "        print(text,'\\n _______________________________________ \\n')\n",
    "        \n",
    "        # the .sleep() will delay the print so you can follow what happens down below for each iteration\n",
    "        time.sleep(2.5)\n",
    "        \n",
    "    \n",
    "    # print end result\n",
    "    print('Result is \\n', text)\n",
    "\n",
    "print_table(x1_vec,x2_vec)"
   ]
  },
  {
   "cell_type": "markdown",
   "metadata": {},
   "source": [
    "<hr>\n",
    "\n",
    "# Ex. 3\n",
    "Reproduce the figure below of $u(x_1,x_2)$ using the `meshgrid` function from _numpy_ and the `plot_surface` function from _matplotlib_. "
   ]
  },
  {
   "cell_type": "code",
   "execution_count": 6,
   "metadata": {},
   "outputs": [],
   "source": [
    "# Import packages\n",
    "import numpy as np\n",
    "%matplotlib inline\n",
    "import matplotlib.pyplot as plt\n",
    "plt.style.use('seaborn-whitegrid')\n",
    "from mpl_toolkits.mplot3d import Axes3D\n",
    "from matplotlib import cm \n",
    "\n",
    "# What is a meshgrid?\n",
    "# From documentation:\n",
    "    # \"Returns X1, X2,…, XNndarray\"\n",
    "    # \"... matrix (‘ij’) indexing of output\"\n",
    "    \n",
    "x1_grid, x2_grid = np.meshgrid(x1_vec,x2_vec,indexing='ij')\n",
    "\n",
    "# Create grid of utility values \n",
    "utlity_grid = utility(x1_grid,x2_grid)"
   ]
  },
  {
   "cell_type": "code",
   "execution_count": 7,
   "metadata": {},
   "outputs": [
    {
     "data": {
      "image/png": "[encoded data removed]",
      "text/plain": [
       "<Figure size 432x288 with 1 Axes>"
      ]
     },
     "metadata": {},
     "output_type": "display_data"
    }
   ],
   "source": [
    "# Initialize canvas\n",
    "# From documentation: .figure() us a unique identifier for the figure\n",
    "fig = plt.figure()\n",
    "\n",
    "# Add the subplot\n",
    "# From documentation subplot(nrows, ncols, index, **kwargs)\n",
    "ax = fig.add_subplot(1,1,1,projection='3d')\n",
    "\n",
    "# Choose the desired .plot method\n",
    "ax.plot_surface(x1_grid, x2_grid, utlity_grid, cmap=cm.jet)\n",
    "\n",
    "# Customize any way you want, we just want the labels for now\n",
    "ax.set_xlabel('$x_1$')\n",
    "ax.set_ylabel('$x_2$')\n",
    "ax.set_zlabel('$utility,u$')\n",
    "\n",
    "# Invert x-axis\n",
    "ax.invert_xaxis();"
   ]
  },
  {
   "cell_type": "markdown",
   "metadata": {},
   "source": [
    "<hr>\n",
    "\n",
    "# Ex. 4\n",
    "\n",
    "Consider the following minimization problem:\n",
    "\n",
    "$$\n",
    "\\min_x  f(x) = \\min_x \\sin(x) + 0.05 \\cdot x^2\n",
    "$$"
   ]
  },
  {
   "cell_type": "markdown",
   "metadata": {},
   "source": [
    "Solve this problem and illustrate your results."
   ]
  },
  {
   "cell_type": "code",
   "execution_count": 8,
   "metadata": {},
   "outputs": [
    {
     "name": "stdout",
     "output_type": "stream",
     "text": [
      "Loop solution:    Minimum function value is -0.88366802 at x = -1.51515152\n",
      "SciPy.optimize:   Minimum function value is -0.88786283 at x = -1.42756250\n"
     ]
    },
    {
     "data": {
      "image/png": "[encoded data removed]",
      "text/plain": [
       "<Figure size 432x288 with 1 Axes>"
      ]
     },
     "metadata": {},
     "output_type": "display_data"
    }
   ],
   "source": [
    "# Define the to be minimized function\n",
    "def f(x):\n",
    "    return np.sin(x)+0.05*x**2 \n",
    "\n",
    "# Loop solution\n",
    "# Initialize variables\n",
    "N = 100\n",
    "x_vec = np.linspace(-10,10,N)\n",
    "f_vec = np.empty(N)\n",
    "\n",
    "# Initial values\n",
    "f_best = np.inf\n",
    "x_best = np.nan \n",
    "\n",
    "# Start the loop - using enumerate we loop through the indexes and their correpsonding values\n",
    "for i,x in enumerate(x_vec):\n",
    "    \n",
    "    # Evaluate function f(x) and assign value to vector and the temporary variable f_now\n",
    "    f_now = f_vec[i] = f(x) \n",
    "    \n",
    "    # Check if function value is smaller as we want to minimize\n",
    "    if f_now < f_best:\n",
    "        # Update values\n",
    "        x_best = x\n",
    "        f_best = f_now\n",
    "        \n",
    "\n",
    "# SciPy solution\n",
    "from scipy import optimize\n",
    "\n",
    "# Initial guess\n",
    "x_guess = [0]\n",
    "\n",
    "# Objective function:\n",
    "objective_function = lambda x: f(x[0])\n",
    "\n",
    "# SciPy syntax\n",
    "opt = optimize.minimize(objective_function\n",
    "                                 , x_guess\n",
    "                                 , method='Nelder-Mead')\n",
    "\n",
    "# Unpack results\n",
    "x_best_scipy = opt.x[0]\n",
    "f_best_scipy = opt.fun  \n",
    "\n",
    "# Print\n",
    "print(f'Loop solution:    Minimum function value is {f_best:.8f} at x = {x_best:.8f}')\n",
    "print(f'SciPy.optimize:   Minimum function value is {f_best_scipy:.8f} at x = {x_best_scipy:.8f}')\n",
    "\n",
    "\n",
    "# Plot\n",
    "#Same as before\n",
    "fig = plt.figure()\n",
    "ax = fig.add_subplot(1,1,1)\n",
    "\n",
    "# Add .plot()'s to your subplot (ax)\n",
    "ax.plot(x_vec,f_vec,ls='--',lw=2,color='black',label='$f(x)$')\n",
    "ax.plot(x_best,f_best,ls='',marker='s',color='blue',label='loop')\n",
    "ax.plot(x_best_scipy,f_best_scipy,ls='',marker='o',\n",
    "        markersize=10,markerfacecolor='none',\n",
    "        markeredgecolor='red',label='scipy.optimize')\n",
    "\n",
    "ax.set_xlabel('$x$')\n",
    "ax.set_ylabel('$f$')\n",
    "ax.grid(True)\n",
    "ax.legend(loc='upper center');"
   ]
  },
  {
   "cell_type": "markdown",
   "metadata": {},
   "source": [
    "<hr>\n",
    "\n",
    "# Ex. 5\n",
    "\n",
    "Consider the following $M$-good, $x=(x_1,x_2,\\dots,x_M)$, **utility maximization problem** with exogenous income $I$, and price-vector $p=(p_1,p_2,\\dots,p_M)$,\n",
    "\n",
    "$$\n",
    "\\begin{aligned}\n",
    "V(p_{1},p_{2},\\dots,,p_{M},I) & = \\max_{x_{1},x_{2},\\dots,x_M} x_{1}^{\\alpha_1} x_{2}^{\\alpha_2} \\dots x_{M}^{\\alpha_M} \\\\\n",
    " & \\text{s.t.}\\\\\n",
    "E & = \\sum_{i=1}^{M}p_{i}x_{i} \\leq I,\\,\\,\\,p_{1},p_{2},\\dots,p_M,I>0\\\\\n",
    "x_{1},x_{2},\\dots,x_M & \\geq 0\n",
    "\\end{aligned}\n",
    "$$"
   ]
  },
  {
   "cell_type": "markdown",
   "metadata": {},
   "source": [
    "**Problem:** Solve the 5-good utility maximization problem for arbitrary preference parameters, $ \\alpha = (\\alpha_1,\\alpha_2,\\dots,\\alpha_5)$, prices and income. First, with a loop, and then with a numerical optimizer."
   ]
  },
  {
   "cell_type": "markdown",
   "metadata": {},
   "source": [
    "You can use the following functions:"
   ]
  },
  {
   "cell_type": "code",
   "execution_count": 9,
   "metadata": {},
   "outputs": [],
   "source": [
    "def utility_function(x,alpha):\n",
    "    # ensure you understand what this function is doing\n",
    "\n",
    "    u = 1\n",
    "    for x_now,alpha_now in zip(x,alpha):\n",
    "        u *= np.max(x_now,0)**alpha_now\n",
    "    return u\n",
    "    \n",
    "def expenditures(x,p):\n",
    "    # ensure you understand what this function is doing\n",
    "\n",
    "    E = 0\n",
    "    for x_now,p_now in zip(x,p):\n",
    "        E += p_now*x_now\n",
    "    return E\n",
    "\n",
    "def print_solution(x,alpha,I,p):\n",
    "    # you can just use this function\n",
    "    \n",
    "    # a. x values\n",
    "    text = 'x = ['\n",
    "    for x_now in x:\n",
    "        text += f'{x_now:.2f} '\n",
    "    text += f']\\n'\n",
    "    \n",
    "    # b. utility\n",
    "    u = utility_function(x,alpha)    \n",
    "    text += f'utility = {u:.3f}\\n'\n",
    "    \n",
    "    # c. expenditure vs. income\n",
    "    E =  expenditures(x,p)\n",
    "    text += f'E = {E:.2f} <= I = {I:.2f}\\n'\n",
    "    \n",
    "    # d. expenditure shares\n",
    "    e = p*x/I\n",
    "    text += 'expenditure shares = ['\n",
    "    for e_now in e:\n",
    "        text += f'{e_now:.2f} '\n",
    "    text += f']'        \n",
    "        \n",
    "    print(text)"
   ]
  },
  {
   "cell_type": "code",
   "execution_count": 10,
   "metadata": {},
   "outputs": [],
   "source": [
    "# Initial values\n",
    "alpha = np.ones(5)/5\n",
    "p = np.array([1,2,3,4,5])\n",
    "I = 10"
   ]
  },
  {
   "cell_type": "markdown",
   "metadata": {},
   "source": [
    "## Loop"
   ]
  },
  {
   "cell_type": "code",
   "execution_count": 11,
   "metadata": {},
   "outputs": [
    {
     "name": "stdout",
     "output_type": "stream",
     "text": [
      "x = [2.14 1.07 0.71 0.36 0.43 ]\n",
      "utility = 0.758\n",
      "E = 10.00 <= I = 10.00\n",
      "expenditure shares = [0.21 0.21 0.21 0.14 0.21 ]\n"
     ]
    }
   ],
   "source": [
    "#Initialize variables\n",
    "N = 15 # number of points in each dimension\n",
    "fac = np.linspace(0,1,N) # Vector with values from 0 to 1 \n",
    "x_max = I/p # maximum x so E = I\n",
    "\n",
    "# Initial guesses\n",
    "u_best = -np.inf\n",
    "x_best = np.empty(5)\n",
    "\n",
    "# Loop through all possible combinations\n",
    "for x1 in fac:\n",
    "    for x2 in fac:\n",
    "        for x3 in fac:\n",
    "            for x4 in fac:\n",
    "                for x5 in fac:\n",
    "                    # Create temproray vector of a certain combination of goods\n",
    "                    x = np.array([x1,x2,x3,x4,x5])*x_max\n",
    "                    \n",
    "                    # Calculate expenditure given the amount of goods\n",
    "                    E = expenditures(x,p)\n",
    "                    \n",
    "                    # First condition: expenditure cannot not exceed income\n",
    "                    if E <= I:\n",
    "                        #Calculate utility\n",
    "                        u_now = utility_function(x,alpha)\n",
    "                        \n",
    "                        # Second condition: Update if utility is higher than before -> we want to max utility\n",
    "                        if u_now > u_best:\n",
    "                            # Update\n",
    "                            x_best = x\n",
    "                            u_best = u_now\n",
    "\n",
    "# Use Christian's function to print results\n",
    "print_solution(x_best, alpha, I, p)"
   ]
  },
  {
   "cell_type": "markdown",
   "metadata": {},
   "source": [
    "## Itertools"
   ]
  },
  {
   "cell_type": "code",
   "execution_count": 12,
   "metadata": {},
   "outputs": [
    {
     "name": "stdout",
     "output_type": "stream",
     "text": [
      "x = [2.14 1.07 0.71 0.36 0.43 ]\n",
      "utility = 0.758\n",
      "E = 10.00 <= I = 10.00\n",
      "expenditure shares = [0.21 0.21 0.21 0.14 0.21 ]\n"
     ]
    }
   ],
   "source": [
    "import itertools as it\n",
    "\n",
    "N = 15 # number of points in each dimension\n",
    "fac = np.linspace(0,1,N) # vector betweein 0 and 1\n",
    "x_max = I/p # maximum x so E = I\n",
    "\n",
    "# Initial guess\n",
    "x_best = np.empty(5)\n",
    "u_best = -np.inf\n",
    "\n",
    "# Loop through all possible combinations\n",
    "for x in it.product(fac,fac,fac,fac,fac):\n",
    "    # Create temproray vector of a certain combination of goods\n",
    "    x *= x_max\n",
    "    \n",
    "    # The rest is equivalent to above\n",
    "    E = expenditures(x,p)\n",
    "    if E <= I:\n",
    "        u_now = utility_function(x,alpha)\n",
    "        if u_now > u_best:\n",
    "            x_best = x\n",
    "            u_best = u_now\n",
    "\n",
    "# Use Christian's function to print results\n",
    "print_solution(x_best, alpha, I, p)       "
   ]
  },
  {
   "cell_type": "markdown",
   "metadata": {},
   "source": [
    "## Constrained solver"
   ]
  },
  {
   "cell_type": "code",
   "execution_count": 13,
   "metadata": {},
   "outputs": [
    {
     "name": "stdout",
     "output_type": "stream",
     "text": [
      "Optimization terminated successfully\n",
      "x = [2.00 1.00 0.67 0.50 0.40 ]\n",
      "utility = 0.768\n",
      "E = 10.00 <= I = 10.00\n",
      "expenditure shares = [0.20 0.20 0.20 0.20 0.20 ]\n"
     ]
    }
   ],
   "source": [
    "# Constraints dictionary for the problem. NB: lambda function so the constraint is iterable\n",
    "constraints = ({'type': 'ineq'\n",
    "                , 'fun': lambda x:  I-expenditures(x,p)})\n",
    "\n",
    "# Bounds: cannot use more than I/p_now\n",
    "bounds = [(0,I/p_now) for p_now in p]\n",
    "\n",
    "# Initial guess\n",
    "initial_guess = (I/p)/6 \n",
    "\n",
    "# Objective\n",
    "objective_function = lambda x: -utility_function(x,alpha)\n",
    "\n",
    "# SciPy syntax\n",
    "opt = optimize.minimize(objective_function\n",
    "                        , initial_guess\n",
    "                        , method='SLSQP'\n",
    "                        , bounds=bounds\n",
    "                        , constraints=constraints)\n",
    "\n",
    "# Check that the solver has terminated correctly\n",
    "print(opt.message) \n",
    "\n",
    "# Print results\n",
    "print_solution(opt.x,alpha,I,p)"
   ]
  },
  {
   "cell_type": "markdown",
   "metadata": {},
   "source": [
    "## Unconstrained solver"
   ]
  },
  {
   "cell_type": "code",
   "execution_count": 14,
   "metadata": {},
   "outputs": [
    {
     "name": "stdout",
     "output_type": "stream",
     "text": [
      "Optimization terminated successfully.\n",
      "x = [2.00 1.00 0.67 0.50 0.40 ]\n",
      "utility = 0.768\n",
      "E = 10.00 <= I = 10.00\n",
      "expenditure shares = [0.20 0.20 0.20 0.20 0.20 ]\n"
     ]
    }
   ],
   "source": [
    "# Initial guess\n",
    "initial_guess = (I/p)/6\n",
    "\n",
    "# Objective function\n",
    "def unconstrained_objective(x,alpha,I,p):\n",
    "    \n",
    "    #Initialize penalty\n",
    "    penalty = 0\n",
    "    \n",
    "    # Calculate expendetures given inputs\n",
    "    E = expenditures(x,p)\n",
    "    \n",
    "    # If you spend more than you earn then x must be decreased i.e. you must consume less\n",
    "    if E >= I:\n",
    "        ratio = I/E\n",
    "        x *= ratio # now p*x = I\n",
    "        \n",
    "        # Update penalty\n",
    "        penalty = 1000*(E-I)**2\n",
    "    \n",
    "    u = utility_function(x,alpha)\n",
    "    return -u + penalty \n",
    "    # note: \n",
    "    #  \"-u\" because we are minimizing\n",
    "    #  ---------> \"+ penalty\" because the minimizer will then avoid the E > I\n",
    "\n",
    "# SciPy syntax for unconstrained solver\n",
    "opt = optimize.minimize(unconstrained_objective\n",
    "                        , initial_guess\n",
    "                        , method='Nelder-Mead'\n",
    "                        , args=(alpha,I,p)\n",
    "                        , options={'maxiter':5000}\n",
    "                        , tol=1e-10)\n",
    "\n",
    "print(opt.message)\n",
    "\n",
    "print_solution(opt.x, alpha, I, p)   "
   ]
  }
 ],
 "metadata": {
  "kernelspec": {
   "display_name": "Python 3",
   "language": "python",
   "name": "python3"
  },
  "language_info": {
   "codemirror_mode": {
    "name": "ipython",
    "version": 3
   },
   "file_extension": ".py",
   "mimetype": "text/x-python",
   "name": "python",
   "nbconvert_exporter": "python",
   "pygments_lexer": "ipython3",
   "version": "3.8.5"
  },
  "toc-autonumbering": true
 },
 "nbformat": 4,
 "nbformat_minor": 4
}
