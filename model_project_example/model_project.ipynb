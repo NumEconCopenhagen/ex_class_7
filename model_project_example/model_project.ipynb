{
 "cells": [
  {
   "cell_type": "code",
   "execution_count": 1,
   "metadata": {},
   "outputs": [],
   "source": [
    "import numpy as np\n",
    "from scipy import linalg\n",
    "from scipy import optimize\n",
    "import sympy as sm\n",
    "import matplotlib.pyplot as plt\n",
    "plt.style.use('seaborn')"
   ]
  },
  {
   "cell_type": "markdown",
   "metadata": {},
   "source": [
    "# Overlapping Generation Model (OLG)"
   ]
  },
  {
   "cell_type": "markdown",
   "metadata": {},
   "source": [
    "## Applying the OLG model to examine the effects of a social security system"
   ]
  },
  {
   "cell_type": "markdown",
   "metadata": {},
   "source": [
    "In this project, we examine the effects of a social security system through an Overlapping Generation Model (OLG). First, we set up the \"baseline\" model, which does not include a social security system. Here we analyze the steady state of capital and how time preferences affect capital accumulation. In the baseline model, we also show how to analytically solve the model and next how to solve it numerically with calibrated model parameters. \n",
    "\n",
    "Next, we extend our model to include a Pay-As-You-Go (PAYG) social security system. The PAYG system where the government raises taxes from the young working population and transfers them to the current old. Here we examine how different tax rates affect the capital accumulation and steady state values. \n",
    "\n",
    "We find that the introduction of a PAYG social security system decreases the steady state capital. This decrease in steady state capital happens through two channels: 1) When the tax rate increases the young have a lower disposable income and need to save less to obtain the same level of consumption in period 1. 2) When the tax rate increases the old receive higher level of social benefit. This means that they can (and will) save less when young, and still obtain the same level of consumption in period 2."
   ]
  },
  {
   "cell_type": "markdown",
   "metadata": {},
   "source": [
    "## Model setup"
   ]
  },
  {
   "cell_type": "markdown",
   "metadata": {},
   "source": [
    "In this setup the economy is populated by agents that live for 2 periods agents i.e. $t = 1,2$. $L_t$ individuals are born in period t and the population is assumed to grow at rate n:\n",
    "\n",
    "$$ L_t = L_{t-1}(1+n) $$\n",
    "\n",
    "We assume agents derive utility from consumption while alive and log-preferences:\n",
    "\n",
    "$$ U_t = u(c_{1t}) + \\frac{1}{1+\\rho} u(c_{2t+1}) $$\n",
    "\n",
    "where \n",
    "* $c_{1t}$ denotes consumption when the agent is young at time t\n",
    "* $c_{2t+1}$ denotes consumption when the agent is old at time t+1\n",
    "* $\\rho$ is the discount rate\n",
    "* $u(x) = \\log{x}$\n",
    "\n",
    "While young, agents supply 1 unit of labor inelastically at wage rate $w_t$ which is split into consumption $c_{1t}$ and savings $s_t$. When old they consume their gross savings where the interest rate earned from $t$ to $t+1$ is given by $r_{t+1}$. Thus, agents face the following budget constraints:\n",
    "\n",
    "$$ c_{1t} + s_t = w_t $$\n",
    "$$ c_{2t+1} = (1+r_{t+1}) s_t $$\n",
    "\n",
    "It follows that the lifetime budget constraint is given by:\n",
    "\n",
    "$$ c_{1t} + \\frac{c_{2t+1}}{1+r_{t+1}} = w_t $$\n",
    "\n",
    "The firms of the economy is assumed to be characterized by Cobb-Douglas production technology where the inputs are used are capital $K$ and labor $L$ to obtain output $Y$:\n",
    "\n",
    "$$ f(K,L) = Y = K^\\alpha L^{1-\\alpha},      \\alpha \\in (0,1) $$"
   ]
  },
  {
   "cell_type": "markdown",
   "metadata": {},
   "source": [
    "## Analytical solution"
   ]
  },
  {
   "cell_type": "markdown",
   "metadata": {},
   "source": [
    "### Households' problem"
   ]
  },
  {
   "cell_type": "markdown",
   "metadata": {},
   "source": [
    "In this section we set up the households' problem. Ultimately we are interested in the agents optimal savings behaviour which defines the capital accumulation. First, we define lifetime utility:"
   ]
  },
  {
   "cell_type": "code",
   "execution_count": 2,
   "metadata": {},
   "outputs": [
    {
     "data": {
      "text/latex": [
       "$\\displaystyle \\log{\\left(c_{1t} \\right)} + \\frac{\\log{\\left(c_{2t+1} \\right)}}{\\rho + 1}$"
      ],
      "text/plain": [
       "log(c_1t) + log(c_2t+1)/(rho + 1)"
      ]
     },
     "metadata": {},
     "output_type": "display_data"
    }
   ],
   "source": [
    "#Initialize variabels in Sympy\n",
    "c1 = sm.symbols('c_1t')\n",
    "c2 = sm.symbols('c_2t+1')\n",
    "rho = sm.symbols('rho')\n",
    "\n",
    "#Setup utility\n",
    "uc1 = sm.ln(c1)\n",
    "uc2 = sm.ln(c2)\n",
    "U = uc1 + 1/(1+rho) * uc2\n",
    "display(U)"
   ]
  },
  {
   "cell_type": "markdown",
   "metadata": {},
   "source": [
    "Next, we setup the lifetime budget constraint:"
   ]
  },
  {
   "cell_type": "code",
   "execution_count": 3,
   "metadata": {},
   "outputs": [
    {
     "data": {
      "text/latex": [
       "$\\displaystyle c_{1t} + \\frac{c_{2t+1}}{r_{t+1} + 1} - w_{t}$"
      ],
      "text/plain": [
       "c_1t + c_2t+1/(r_t+1 + 1) - w_t"
      ]
     },
     "metadata": {},
     "output_type": "display_data"
    }
   ],
   "source": [
    "#Initialize variabels in Sympy\n",
    "wt = sm.symbols('w_t')\n",
    "rt1 = sm.symbols('r_t+1')\n",
    "\n",
    "#Setup lifetime budget constraint\n",
    "bc = c1 + c2 / (1+rt1) - wt\n",
    "display(bc)"
   ]
  },
  {
   "cell_type": "markdown",
   "metadata": {},
   "source": [
    "Setting up the Langrangian: "
   ]
  },
  {
   "cell_type": "code",
   "execution_count": 4,
   "metadata": {},
   "outputs": [
    {
     "data": {
      "text/latex": [
       "$\\displaystyle - \\lambda \\left(c_{1t} + \\frac{c_{2t+1}}{r_{t+1} + 1} - w_{t}\\right) + \\log{\\left(c_{1t} \\right)} + \\frac{\\log{\\left(c_{2t+1} \\right)}}{\\rho + 1}$"
      ],
      "text/plain": [
       "-lambda*(c_1t + c_2t+1/(r_t+1 + 1) - w_t) + log(c_1t) + log(c_2t+1)/(rho + 1)"
      ]
     },
     "metadata": {},
     "output_type": "display_data"
    }
   ],
   "source": [
    "#Initialize variabels in Sympy\n",
    "lamb = sm.symbols('lambda')\n",
    "\n",
    "#Setup Lagrangian\n",
    "L = U + lamb * (-1)*bc\n",
    "display(L)"
   ]
  },
  {
   "cell_type": "markdown",
   "metadata": {},
   "source": [
    "Defining first order conditions (FOC) from the lagrangian: "
   ]
  },
  {
   "cell_type": "code",
   "execution_count": 5,
   "metadata": {},
   "outputs": [
    {
     "data": {
      "text/latex": [
       "$\\displaystyle 0 = - \\lambda + \\frac{1}{c_{1t}}$"
      ],
      "text/plain": [
       "Eq(0, -lambda + 1/c_1t)"
      ]
     },
     "metadata": {},
     "output_type": "display_data"
    },
    {
     "data": {
      "text/latex": [
       "$\\displaystyle 0 = - \\frac{\\lambda}{r_{t+1} + 1} + \\frac{1}{c_{2t+1} \\left(\\rho + 1\\right)}$"
      ],
      "text/plain": [
       "Eq(0, -lambda/(r_t+1 + 1) + 1/(c_2t+1*(rho + 1)))"
      ]
     },
     "metadata": {},
     "output_type": "display_data"
    }
   ],
   "source": [
    "#First order conditions\n",
    "foc1 = sm.Eq(0,sm.diff(L,c1))\n",
    "foc2 = sm.Eq(0,sm.diff(L,c2))\n",
    "display(foc1)\n",
    "display(foc2)"
   ]
  },
  {
   "cell_type": "markdown",
   "metadata": {},
   "source": [
    "Solving for the lagrangian multiplier  $\\lambda$:"
   ]
  },
  {
   "cell_type": "code",
   "execution_count": 6,
   "metadata": {},
   "outputs": [
    {
     "data": {
      "text/latex": [
       "$\\displaystyle \\frac{1}{c_{1t}}$"
      ],
      "text/plain": [
       "1/c_1t"
      ]
     },
     "metadata": {},
     "output_type": "display_data"
    },
    {
     "data": {
      "text/latex": [
       "$\\displaystyle \\frac{r_{t+1} + 1}{c_{2t+1} \\left(\\rho + 1\\right)}$"
      ],
      "text/plain": [
       "(r_t+1 + 1)/(c_2t+1*(rho + 1))"
      ]
     },
     "metadata": {},
     "output_type": "display_data"
    }
   ],
   "source": [
    "lam1 = sm.solve(foc1,lamb)[0] #solving foc1 wrt. to lambda\n",
    "lam2 = sm.solve(foc2,lamb)[0] #solving foc2 wrt. to lambda\n",
    "display(lam1)\n",
    "display(lam2)"
   ]
  },
  {
   "cell_type": "markdown",
   "metadata": {},
   "source": [
    "Thus, the Euler-equation is given by:"
   ]
  },
  {
   "cell_type": "code",
   "execution_count": 7,
   "metadata": {},
   "outputs": [
    {
     "data": {
      "text/latex": [
       "$\\displaystyle \\frac{c_{2t+1} \\left(\\rho + 1\\right)}{r_{t+1} + 1} = c_{1t}$"
      ],
      "text/plain": [
       "Eq(c_2t+1*(rho + 1)/(r_t+1 + 1), c_1t)"
      ]
     },
     "metadata": {},
     "output_type": "display_data"
    }
   ],
   "source": [
    "euler1 = sm.solve(sm.Eq(lam1,lam2),c1)[0] #Equating lambdas and solving\n",
    "euler2 = sm.Eq(euler1, c1)\n",
    "display(euler2)"
   ]
  },
  {
   "cell_type": "markdown",
   "metadata": {},
   "source": [
    "This is the Euler equation. From the equation we see that consumers choose a level of consumption such that the marginal rate of substitution between present consumption and future consumptions equals the marginal rate of transformation.\n",
    "\n",
    "\n",
    "\n",
    "**Optimal savings behaviour**\n",
    "\n",
    "Next we examine the optimal savings behaviour. Replacing per period budget constraint in the Euler and solving for $s_t$ will characterize individual savings behaviour"
   ]
  },
  {
   "cell_type": "code",
   "execution_count": 8,
   "metadata": {},
   "outputs": [
    {
     "data": {
      "text/latex": [
       "$\\displaystyle s_{t} \\left(\\rho + 1\\right) = - s_{t} + w_{t}$"
      ],
      "text/plain": [
       "Eq(s_t*(rho + 1), -s_t + w_t)"
      ]
     },
     "metadata": {},
     "output_type": "display_data"
    }
   ],
   "source": [
    "#Initialize variabels in Sympy\n",
    "st = sm.symbols('s_t')\n",
    "\n",
    "#Setup per period BC\n",
    "bc1 = wt-st #budget constraint for young\n",
    "bc2 = (1+rt1)*st #budget constraint for old\n",
    "\n",
    "#Replace\n",
    "euler3 = euler2.subs(c1,bc1) #substituting c1 with budget constraint for young\n",
    "euler4 = euler3.subs(c2,bc2) #substituting c2 with budget constraint for old\n",
    "display(euler4)"
   ]
  },
  {
   "cell_type": "markdown",
   "metadata": {},
   "source": [
    "Solving for optimal savings behaviour:"
   ]
  },
  {
   "cell_type": "code",
   "execution_count": 9,
   "metadata": {},
   "outputs": [
    {
     "data": {
      "text/latex": [
       "$\\displaystyle \\frac{w_{t}}{\\rho + 2} = s_{t}$"
      ],
      "text/plain": [
       "Eq(w_t/(rho + 2), s_t)"
      ]
     },
     "metadata": {},
     "output_type": "display_data"
    }
   ],
   "source": [
    "saving = sm.solve(euler4,st)[0] #solving substituted euler equation wrt. savings\n",
    "opt_saving = sm.Eq(saving, st) #equate with s_t\n",
    "display(opt_saving)"
   ]
  },
  {
   "cell_type": "markdown",
   "metadata": {},
   "source": [
    "The optimal savings behaviour is affected by the timepreference parameter, $\\rho$, which lowers savings for higher values."
   ]
  },
  {
   "cell_type": "markdown",
   "metadata": {},
   "source": [
    "### Firms' problem"
   ]
  },
  {
   "cell_type": "markdown",
   "metadata": {},
   "source": [
    "In this section we setup the firms' problem. Firms take prices as given and hence, maximize profit $\\Pi$ given by cf. theory section:\n",
    "\n",
    "$$ \\Pi = K^\\alpha_t L^{1-\\alpha}_t - r_t K_t - w_t L_t $$\n",
    "\n",
    "First, we setup the cobb-douglas production function:"
   ]
  },
  {
   "cell_type": "code",
   "execution_count": 10,
   "metadata": {},
   "outputs": [
    {
     "data": {
      "text/latex": [
       "$\\displaystyle K_{t}^{\\alpha} L_{t}^{1 - \\alpha}$"
      ],
      "text/plain": [
       "K_t**alpha*L_t**(1 - alpha)"
      ]
     },
     "metadata": {},
     "output_type": "display_data"
    }
   ],
   "source": [
    "#Initialize variabels in Sympy\n",
    "alpha = sm.symbols('alpha')\n",
    "K = sm.symbols('K_t')\n",
    "L = sm.symbols('L_t')\n",
    "rt = sm.symbols('r_t')\n",
    "wt = sm.symbols('w_t')\n",
    "Y = sm.symbols('Y')\n",
    "\n",
    "#Setting up the cobb-douglas production function\n",
    "Y = K**alpha * L**(1-alpha)\n",
    "display(Y)"
   ]
  },
  {
   "cell_type": "markdown",
   "metadata": {},
   "source": [
    "Next, we derive the interest and wage rate. Under the assumption of perfectly competitive markets we know that input factors are rewarded their marginal product: "
   ]
  },
  {
   "cell_type": "code",
   "execution_count": 11,
   "metadata": {},
   "outputs": [
    {
     "data": {
      "text/latex": [
       "$\\displaystyle r_{t} = \\frac{K_{t}^{\\alpha} L_{t}^{1 - \\alpha} \\alpha}{K_{t}}$"
      ],
      "text/plain": [
       "Eq(r_t, K_t**alpha*L_t**(1 - alpha)*alpha/K_t)"
      ]
     },
     "metadata": {},
     "output_type": "display_data"
    },
    {
     "data": {
      "text/latex": [
       "$\\displaystyle w_{t} = \\frac{K_{t}^{\\alpha} L_{t}^{1 - \\alpha} \\left(1 - \\alpha\\right)}{L_{t}}$"
      ],
      "text/plain": [
       "Eq(w_t, K_t**alpha*L_t**(1 - alpha)*(1 - alpha)/L_t)"
      ]
     },
     "metadata": {},
     "output_type": "display_data"
    }
   ],
   "source": [
    "#Derivatives of the production function\n",
    "dyk = sm.diff(Y,K)\n",
    "dyl = sm.diff(Y,L)\n",
    "\n",
    "#Equating\n",
    "interest = sm.Eq(rt,dyk) \n",
    "wage = sm.Eq(wt,dyl)\n",
    "display(interest)\n",
    "display(wage)"
   ]
  },
  {
   "cell_type": "markdown",
   "metadata": {},
   "source": [
    "Rewriting to pr. worker:"
   ]
  },
  {
   "cell_type": "code",
   "execution_count": 12,
   "metadata": {},
   "outputs": [
    {
     "data": {
      "text/latex": [
       "$\\displaystyle r_{t} = \\alpha k_{t}^{\\alpha - 1}$"
      ],
      "text/plain": [
       "Eq(r_t, alpha*k_t**(alpha - 1))"
      ]
     },
     "metadata": {},
     "output_type": "display_data"
    },
    {
     "data": {
      "text/latex": [
       "$\\displaystyle w_{t} = k_{t}^{\\alpha} \\left(1 - \\alpha\\right)$"
      ],
      "text/plain": [
       "Eq(w_t, k_t**alpha*(1 - alpha))"
      ]
     },
     "metadata": {},
     "output_type": "display_data"
    }
   ],
   "source": [
    "#Initialize variabels in Sympy\n",
    "k = sm.symbols('k_t')\n",
    "\n",
    "#Rewriting\n",
    "intrate = sm.Eq(rt,(alpha*k**(alpha-1)))\n",
    "wagerate = sm.Eq(wt, ((1-alpha)*k**(alpha)))\n",
    "display(intrate)\n",
    "display(wagerate)"
   ]
  },
  {
   "cell_type": "markdown",
   "metadata": {},
   "source": [
    "### Law-of-motion and steady state capital"
   ]
  },
  {
   "cell_type": "markdown",
   "metadata": {},
   "source": [
    "The aggregate capital stock in $t+1$ is given by\n",
    "$$k_{t+1}(1+n) = s_t$$\n",
    "\n",
    "Recalling the optimal savings behaviour:"
   ]
  },
  {
   "cell_type": "code",
   "execution_count": 13,
   "metadata": {},
   "outputs": [
    {
     "data": {
      "text/latex": [
       "$\\displaystyle \\frac{w_{t}}{\\rho + 2} = s_{t}$"
      ],
      "text/plain": [
       "Eq(w_t/(rho + 2), s_t)"
      ]
     },
     "metadata": {},
     "output_type": "display_data"
    }
   ],
   "source": [
    "display(opt_saving)"
   ]
  },
  {
   "cell_type": "markdown",
   "metadata": {},
   "source": [
    "Substitute for the wage rate and use aggregate capital stock to obtain the law-of-motion. The law of motion shows how capital per unit of labor evolves over time:"
   ]
  },
  {
   "cell_type": "code",
   "execution_count": 14,
   "metadata": {},
   "outputs": [
    {
     "data": {
      "text/latex": [
       "$\\displaystyle k_{t+1} = \\frac{k_{t}^{\\alpha} \\left(1 - \\alpha\\right)}{n \\rho + 2 n + \\rho + 2}$"
      ],
      "text/plain": [
       "Eq(k_t+1, k_t**alpha*(1 - alpha)/(n*rho + 2*n + rho + 2))"
      ]
     },
     "metadata": {},
     "output_type": "display_data"
    }
   ],
   "source": [
    "#Initializing variabels in Sympy\n",
    "k1 = sm.symbols('k_t+1')\n",
    "n = sm.symbols('n')\n",
    "\n",
    "#Replace wage rate in savings\n",
    "savings = opt_saving.subs(wt, ((1-alpha)*k**(alpha)))\n",
    "\n",
    "#Using definition of aggregate capital\n",
    "cap = k1 * (1+n)\n",
    "agcap = savings.subs(st,cap)\n",
    "\n",
    "#Solving for k_t+1 to obtain law of-motion\n",
    "lom = sm.solve(agcap,k1)[0]\n",
    "lom = sm.Eq(k1,lom) #Equate\n",
    "display(lom)"
   ]
  },
  {
   "cell_type": "markdown",
   "metadata": {},
   "source": [
    "Use in steady state (SS) that $k_t = k_{t+1} = k^*$. Hence, the law-of-motion is: "
   ]
  },
  {
   "cell_type": "code",
   "execution_count": 15,
   "metadata": {},
   "outputs": [
    {
     "data": {
      "text/latex": [
       "$\\displaystyle \\left(\\frac{- n \\rho - 2 n - \\rho - 2}{\\alpha - 1}\\right)^{\\frac{1}{\\alpha - 1}}$"
      ],
      "text/plain": [
       "((-n*rho - 2*n - rho - 2)/(alpha - 1))**(1/(alpha - 1))"
      ]
     },
     "metadata": {},
     "output_type": "display_data"
    }
   ],
   "source": [
    "#Initialize variabels in Sympy\n",
    "kstar = sm.symbols('k^*')\n",
    "\n",
    "#Replace with k*\n",
    "lom1 = lom.subs(k1, kstar)\n",
    "lom2 = lom1.subs(k, kstar)\n",
    "\n",
    "#Solve for k*\n",
    "lom3 = sm.solve(lom2, kstar)[0]\n",
    "display(lom3)"
   ]
  },
  {
   "cell_type": "markdown",
   "metadata": {},
   "source": [
    "We can compute the SS value by turning the law-of-motion into a python function:"
   ]
  },
  {
   "cell_type": "code",
   "execution_count": 16,
   "metadata": {},
   "outputs": [
    {
     "name": "stdout",
     "output_type": "stream",
     "text": [
      "The SS level of capital for n=0.2, rho=0.5 and alpha=1/3 is 0.10475656017578489\n"
     ]
    }
   ],
   "source": [
    "ss_func = sm.lambdify((n, rho, alpha),lom3) #turn into python function\n",
    "ss_capital = ss_func(0.2,0.5,1/3) #give the funtion random values\n",
    "print(f'The SS level of capital for n=0.2, rho=0.5 and alpha=1/3 is {ss_capital}')"
   ]
  },
  {
   "cell_type": "markdown",
   "metadata": {},
   "source": [
    "## Numerical solution"
   ]
  },
  {
   "cell_type": "markdown",
   "metadata": {},
   "source": [
    "We can also solve for the SS numerically:"
   ]
  },
  {
   "cell_type": "code",
   "execution_count": 17,
   "metadata": {},
   "outputs": [
    {
     "name": "stdout",
     "output_type": "stream",
     "text": [
      "The SS level of capital for n=0.2, rho=0.5 and alpha=1/3 is 0.10475656017450916\n"
     ]
    }
   ],
   "source": [
    "#Set parameter values\n",
    "alpha = 1/3 #capital income share\n",
    "n = 0.2 #population growth\n",
    "rho = 0.5 #timepreference\n",
    "\n",
    "#Define objective function i.e. the law-of-motion as seen above\n",
    "f = lambda k: k**alpha #input for the objective function\n",
    "obj_kss = lambda kss: kss - (f(kss)*(1-alpha))/(n*rho+2*n+rho+2) \n",
    "\n",
    "#Optimizing using the bisect method\n",
    "result = optimize.root_scalar(obj_kss,bracket=[0.1,100],method='bisect')\n",
    "\n",
    "print('The SS level of capital for n=0.2, rho=0.5 and alpha=1/3 is',result.root)    "
   ]
  },
  {
   "cell_type": "markdown",
   "metadata": {},
   "source": [
    "## Graphical representation of dynamics"
   ]
  },
  {
   "cell_type": "markdown",
   "metadata": {},
   "source": [
    "From the analytical section recall:"
   ]
  },
  {
   "cell_type": "code",
   "execution_count": 18,
   "metadata": {},
   "outputs": [
    {
     "data": {
      "text/latex": [
       "$\\displaystyle w_{t} = k_{t}^{\\alpha} \\left(1 - \\alpha\\right)$"
      ],
      "text/plain": [
       "Eq(w_t, k_t**alpha*(1 - alpha))"
      ]
     },
     "metadata": {},
     "output_type": "display_data"
    },
    {
     "data": {
      "text/latex": [
       "$\\displaystyle \\frac{w_{t}}{\\rho + 2} = s_{t}$"
      ],
      "text/plain": [
       "Eq(w_t/(rho + 2), s_t)"
      ]
     },
     "metadata": {},
     "output_type": "display_data"
    },
    {
     "data": {
      "text/latex": [
       "$\\displaystyle k_{t+1} \\left(n + 1\\right)$"
      ],
      "text/plain": [
       "k_t+1*(n + 1)"
      ]
     },
     "metadata": {},
     "output_type": "display_data"
    }
   ],
   "source": [
    "display(wagerate)\n",
    "display(opt_saving)\n",
    "display(cap)"
   ]
  },
  {
   "cell_type": "markdown",
   "metadata": {},
   "source": [
    "This we use to construct the transition equation"
   ]
  },
  {
   "cell_type": "code",
   "execution_count": 19,
   "metadata": {},
   "outputs": [],
   "source": [
    "def transition(k,alpha,rho,n):\n",
    "    \"\"\"\n",
    "    Returns:\n",
    "    k1(float) capital in the next period\n",
    "    \n",
    "    Args:\n",
    "    k (float): Initial stock of capital\n",
    "    alpha (float): Capital income share.\n",
    "    rho (float): Timepreference parameter\n",
    "    n (float): Population growth\n",
    "    \n",
    "    output: \n",
    "    Computes the wage rate, optimal savings and capital in next period. \n",
    "    \n",
    "    \"\"\"\n",
    "    # Raise ValueErrors\n",
    "    if n>1:\n",
    "        raise ValueError(\"Population growth cannot exceed 1\")\n",
    "    if alpha>1: \n",
    "        raise ValueError(\"Capital income share cannot exceed 1\")\n",
    "    if rho < 0: \n",
    "        raise ValueError(\"Timepreference cannot be a negative number\")\n",
    "    \n",
    "    w = k**alpha * (1-alpha) #wage rate\n",
    "    s = w / (rho+2) #optimal savings\n",
    "    k1 = s / (n+1) #capital in the next period\n",
    "    return k1"
   ]
  },
  {
   "cell_type": "markdown",
   "metadata": {},
   "source": [
    "Use the transition function to create all values of capital"
   ]
  },
  {
   "cell_type": "code",
   "execution_count": 20,
   "metadata": {},
   "outputs": [],
   "source": [
    "def transition_curve(alpha,rho,n,T=1000,k_min=1e-20,k_max=6):\n",
    "    \"\"\"\n",
    "    Returns:\n",
    "    k_1(array): Array of capital in period 1\n",
    "    k_2(array): Array of capital in period 2\n",
    "    \n",
    "    Args:\n",
    "    alpha (float): Capital income share\n",
    "    rho (float): Timepreference parameter\n",
    "    n (float): Population growth\n",
    "    T (int): Number of periods. Default 1000 periods.\n",
    "    k_min (float): Minimum capital value. Default 1e-20.\n",
    "    k_max (float): Maximum capital value. Default 6.\n",
    "    \n",
    "    output: \n",
    "    For every value of capital computes the value of capital in the next period using the transition equation. \n",
    "    \"\"\"\n",
    "    \n",
    "    if n>1:\n",
    "        raise ValueError(\"Population growth cannot exceed 1\")\n",
    "    if alpha>1: \n",
    "        raise ValueError(\"Capital income share cannot exceed 1\")\n",
    "    if rho < 0: \n",
    "        raise ValueError(\"Timepreference cannot be a negative number\")\n",
    "    \n",
    "    #grids\n",
    "    k_1 = np.linspace(k_min,k_max,T)\n",
    "    k_1 = np.linspace(1e-20,6,T)\n",
    "    k_2 = np.empty(T)\n",
    "    \n",
    "    #construct array of \"tomorrows\" capital\n",
    "    for i,k in enumerate(k_1):\n",
    "        k_plus = transition(k,alpha,rho,n)\n",
    "        k_2[i] = k_plus\n",
    "        \n",
    "    return k_1, k_2"
   ]
  },
  {
   "cell_type": "markdown",
   "metadata": {},
   "source": [
    "Next we plot the transition diagram:"
   ]
  },
  {
   "cell_type": "code",
   "execution_count": 21,
   "metadata": {},
   "outputs": [
    {
     "data": {
      "application/vnd.jupyter.widget-view+json": {
       "model_id": "1b308a428e1142a4b2f45934a5ae053a",
       "version_major": 2,
       "version_minor": 0
      },
      "text/plain": [
       "interactive(children=(FloatSlider(value=0.5, description='rho', max=16.0, step=0.01), Output()), _dom_classes=…"
      ]
     },
     "metadata": {},
     "output_type": "display_data"
    }
   ],
   "source": [
    "def fig(rho):\n",
    "    \"\"\"\n",
    "    Returns:\n",
    "    Plots the transition curve\n",
    "    \n",
    "    Args:\n",
    "    rho(float): Timepreference parameter\n",
    "    \"\"\"\n",
    "    #parameters\n",
    "    alpha = 1/3\n",
    "    rho = rho\n",
    "    n = 0.2\n",
    "    \n",
    "    #transition curve\n",
    "    k_1, k_2 = transition_curve(alpha,rho,n,T=1000,k_min=1e-20,k_max=6)\n",
    "    \n",
    "    fig = plt.figure()\n",
    "    ax = fig.add_subplot(1,1,1)\n",
    "    ax.plot(k_1,k_2, label=\"Transition curve\") #transition curve\n",
    "    ax.plot(k_1,k_1, '--', color='grey',label=\"45 degree\") #45 degree line\n",
    "    ax.set_xlabel('$k_t$')\n",
    "    ax.set_ylabel('$k_t+1$')\n",
    "    ax.set_title('Transition curve')\n",
    "    ax.legend()\n",
    "    ax.set_xlim([0,0.2])\n",
    "    ax.set_ylim([0,0.2]);\n",
    "    return\n",
    "\n",
    "import ipywidgets as widgets\n",
    "widgets.interact(fig, \n",
    "    rho = widgets.FloatSlider(description='rho', min=0, max=16, step=0.01, value=0.5),\n",
    ");"
   ]
  },
  {
   "cell_type": "markdown",
   "metadata": {},
   "source": [
    "As seen on the figure the steady state capital decreases as $\\rho$ $\\rightarrow$ $\\infty$.\n",
    "$\\rho$ is a measurement of time preference (impatience). The higher\n",
    "$\\rho$ is the more impatient are the agents. Hence, they will\n",
    "spend more when young which implies lower savings and thereby lower steady state capital."
   ]
  },
  {
   "cell_type": "markdown",
   "metadata": {},
   "source": [
    "# Model extension"
   ]
  },
  {
   "cell_type": "markdown",
   "metadata": {},
   "source": [
    "We now impose a pay-as-you-go social security system in the model. The government raises taxes, $\\tau$, from the young population in period t and transfers them to the old. Budget constraints is thus:\n",
    "\n",
    "$$ c_{1t} + s_t + \\tau w_t = w_t $$\n",
    "\n",
    "$$ c_{2t+1} = (1+r_{t+1}) s_t + \\tau w_t $$"
   ]
  },
  {
   "cell_type": "code",
   "execution_count": 22,
   "metadata": {},
   "outputs": [],
   "source": [
    "#Initializing symbols\n",
    "tau = sm.symbols('tau')\n",
    "c1 = sm.symbols('c_1t')\n",
    "c2 = sm.symbols('c_2t+1')\n",
    "rho = sm.symbols('rho')\n",
    "alpha = sm.symbols('alpha')\n",
    "K = sm.symbols('K_t')\n",
    "L = sm.symbols('L_t')\n",
    "rt = sm.symbols('r_t')\n",
    "wt = sm.symbols('w_t')\n",
    "Y = sm.symbols('Y')\n",
    "lamb = sm.symbols('lambda')\n",
    "st = sm.symbols('s_t')\n",
    "kstar = sm.symbols('k^*')\n",
    "k1 = sm.symbols('k_t+1')\n",
    "n = sm.symbols('n')\n",
    "k = sm.symbols('k_t')\n",
    "\n",
    "#Lifetime budget constraint\n",
    "life_con = c1+c2/(1+rt1)-tau/(1+rt1)*wt-(1-tau)*wt"
   ]
  },
  {
   "cell_type": "code",
   "execution_count": 23,
   "metadata": {},
   "outputs": [
    {
     "data": {
      "text/latex": [
       "$\\displaystyle - \\lambda \\left(c_{1t} + \\frac{c_{2t+1}}{r_{t+1} + 1} - \\frac{\\tau w_{t}}{r_{t+1} + 1} - w_{t} \\left(1 - \\tau\\right)\\right) + \\log{\\left(c_{1t} \\right)} + \\frac{\\log{\\left(c_{2t+1} \\right)}}{\\rho + 1}$"
      ],
      "text/plain": [
       "-lambda*(c_1t + c_2t+1/(r_t+1 + 1) - tau*w_t/(r_t+1 + 1) - w_t*(1 - tau)) + log(c_1t) + log(c_2t+1)/(rho + 1)"
      ]
     },
     "execution_count": 23,
     "metadata": {},
     "output_type": "execute_result"
    }
   ],
   "source": [
    "#Setting up the new lagrangian\n",
    "L1 = U + lamb * (-1)*life_con\n",
    "L1"
   ]
  },
  {
   "cell_type": "code",
   "execution_count": 24,
   "metadata": {},
   "outputs": [
    {
     "data": {
      "text/latex": [
       "$\\displaystyle 0 = - \\lambda + \\frac{1}{c_{1t}}$"
      ],
      "text/plain": [
       "Eq(0, -lambda + 1/c_1t)"
      ]
     },
     "metadata": {},
     "output_type": "display_data"
    },
    {
     "data": {
      "text/latex": [
       "$\\displaystyle 0 = - \\frac{\\lambda}{r_{t+1} + 1} + \\frac{1}{c_{2t+1} \\left(\\rho + 1\\right)}$"
      ],
      "text/plain": [
       "Eq(0, -lambda/(r_t+1 + 1) + 1/(c_2t+1*(rho + 1)))"
      ]
     },
     "metadata": {},
     "output_type": "display_data"
    }
   ],
   "source": [
    "#First order conditions\n",
    "foc3 = sm.Eq(0,sm.diff(L1,c1))\n",
    "foc4 = sm.Eq(0,sm.diff(L1,c2))\n",
    "display(foc3)\n",
    "display(foc4)"
   ]
  },
  {
   "cell_type": "code",
   "execution_count": 25,
   "metadata": {},
   "outputs": [
    {
     "data": {
      "text/latex": [
       "$\\displaystyle \\frac{1}{c_{1t}}$"
      ],
      "text/plain": [
       "1/c_1t"
      ]
     },
     "metadata": {},
     "output_type": "display_data"
    },
    {
     "data": {
      "text/latex": [
       "$\\displaystyle \\frac{r_{t+1} + 1}{c_{2t+1} \\left(\\rho + 1\\right)}$"
      ],
      "text/plain": [
       "(r_t+1 + 1)/(c_2t+1*(rho + 1))"
      ]
     },
     "metadata": {},
     "output_type": "display_data"
    }
   ],
   "source": [
    "#Solving the FOC's\n",
    "lam1 = sm.solve(foc3,lamb)[0]\n",
    "lam2 = sm.solve(foc4,lamb)[0]\n",
    "display(lam1)\n",
    "display(lam2)"
   ]
  },
  {
   "cell_type": "code",
   "execution_count": 26,
   "metadata": {},
   "outputs": [
    {
     "data": {
      "text/latex": [
       "$\\displaystyle \\frac{c_{2t+1} \\left(\\rho + 1\\right)}{r_{t+1} + 1} = c_{1t}$"
      ],
      "text/plain": [
       "Eq(c_2t+1*(rho + 1)/(r_t+1 + 1), c_1t)"
      ]
     },
     "metadata": {},
     "output_type": "display_data"
    }
   ],
   "source": [
    "#Equate lambdas and solve for Euler eq.\n",
    "euler1 = sm.solve(sm.Eq(lam1,lam2),c1)[0] \n",
    "euler2 = sm.Eq(euler1, c1)\n",
    "display(euler2)"
   ]
  },
  {
   "cell_type": "code",
   "execution_count": 27,
   "metadata": {},
   "outputs": [
    {
     "data": {
      "text/latex": [
       "$\\displaystyle \\frac{w_{t} \\left(- r_{t+1} \\tau + r_{t+1} - \\rho \\tau - 2 \\tau + 1\\right)}{r_{t+1} \\rho + 2 r_{t+1} + \\rho + 2}$"
      ],
      "text/plain": [
       "w_t*(-r_t+1*tau + r_t+1 - rho*tau - 2*tau + 1)/(r_t+1*rho + 2*r_t+1 + rho + 2)"
      ]
     },
     "execution_count": 27,
     "metadata": {},
     "output_type": "execute_result"
    }
   ],
   "source": [
    "#Substituting per period budgetconstraint\n",
    "sav = euler2.subs(c2,((1+rt1)*st+tau*wt))\n",
    "sav2 = sav.subs(c1,(wt-st-tau*wt))\n",
    "\n",
    "#Solving for savings\n",
    "opt_sav = sm.solve(sav2,st)[0]\n",
    "opt_sav"
   ]
  },
  {
   "cell_type": "code",
   "execution_count": 28,
   "metadata": {},
   "outputs": [],
   "source": [
    "sav1 = opt_sav.subs(rt1,(alpha*k**(alpha-1)))\n",
    "sav2 = sav1.subs(wt,(1-alpha)*k**(alpha))\n",
    "sav_func = sm.lambdify((k,alpha,tau,rho),sav2)"
   ]
  },
  {
   "cell_type": "markdown",
   "metadata": {},
   "source": [
    "Next we define a new transition function for the new savings function:"
   ]
  },
  {
   "cell_type": "code",
   "execution_count": 29,
   "metadata": {},
   "outputs": [],
   "source": [
    "def transition_payg(k,alpha,rho,tau,n):\n",
    "    \"\"\"\n",
    "    Returns:\n",
    "    k1_payg(float) capital in the next period\n",
    "    \n",
    "    Args:\n",
    "    k (float): Initial stock of capital\n",
    "    alpha (float): Capital income share.\n",
    "    rho (float): Timepreference parameter\n",
    "    n (float): Population growth\n",
    "    tau (float): Taxrate\n",
    "    \n",
    "    output: \n",
    "    Computes the wage rate, optimal savings and capital in next period. \n",
    "    \n",
    "    \"\"\"\n",
    "    if n>1:\n",
    "        raise ValueError(\"Population growth cannot exceed 1\")\n",
    "    if alpha>1: \n",
    "        raise ValueError(\"Capital income share cannot exceed 1\")\n",
    "    if rho < 0: \n",
    "        raise ValueError(\"Timepreference cannot be a negative number\")\n",
    "    if tau > 1:\n",
    "        raise ValueError(\"Taxrate cannot exceed 1\")\n",
    "    \n",
    "    w = k**alpha * (1-alpha)\n",
    "    s = sav_func(k,alpha,tau,rho)\n",
    "    k1_payg = s / (n+1)\n",
    "    return k1_payg"
   ]
  },
  {
   "cell_type": "code",
   "execution_count": 30,
   "metadata": {},
   "outputs": [],
   "source": [
    "def transition_curve_payg(alpha,rho,n,tau,T=1000,k_min=1e-20,k_max=6):\n",
    "    \"\"\"\n",
    "    Returns:\n",
    "    k_1_payg(array): Array of capital in period 1\n",
    "    k_2_payg(array): Array of capital in period 2\n",
    "    \n",
    "    Args:\n",
    "    alpha (float): Capital income share\n",
    "    rho (float): Timepreference parameter\n",
    "    n (float): Population growth\n",
    "    tau (float): Taxrate\n",
    "    T (int): Number of periods. Default 1000 periods.\n",
    "    k_min (float): Minimum capital value. Default 1e-20.\n",
    "    k_max (float): Maximum capital value. Default 6.\n",
    "    \n",
    "    output: \n",
    "    For every value of capital computes the value of capital in the next period using the transition equation. \n",
    "    \"\"\"\n",
    "    #grids\n",
    "    k_1_payg = np.linspace(k_min,k_max,T)\n",
    "    k_2_payg = np.empty(T)\n",
    "    \n",
    "    #construct array of \"tomorrows\" capital\n",
    "    for i,k in enumerate(k_1_payg):\n",
    "        k_plus = transition_payg(k,alpha,rho,tau,n)\n",
    "        k_2_payg[i] = k_plus\n",
    "        \n",
    "    return k_1_payg, k_2_payg"
   ]
  },
  {
   "cell_type": "code",
   "execution_count": 31,
   "metadata": {},
   "outputs": [
    {
     "data": {
      "application/vnd.jupyter.widget-view+json": {
       "model_id": "45a06a58deac49cebad97679b95e5685",
       "version_major": 2,
       "version_minor": 0
      },
      "text/plain": [
       "interactive(children=(FloatSlider(value=0.3, description='tau', max=1.0, step=0.01), Output()), _dom_classes=(…"
      ]
     },
     "metadata": {},
     "output_type": "display_data"
    }
   ],
   "source": [
    "def fig_payg(tau):\n",
    "    \"\"\"\n",
    "    Returns:\n",
    "    Plots the transition curve with and without a PAYG social security system\n",
    "    \n",
    "    Args:\n",
    "    tau(float): Taxrate\n",
    "    \"\"\"\n",
    "    \n",
    "    #parameters\n",
    "    tau = tau\n",
    "    alpha = 1/3\n",
    "    rho = 0.5\n",
    "    n = 0.2\n",
    "\n",
    "    #transition curves\n",
    "    k_1_payg, k_2_payg = transition_curve_payg(alpha,rho,n,tau,T=1000,k_min=1e-20,k_max=6)\n",
    "    k_1, k_2 = transition_curve(alpha,rho,n,T=1000,k_min=1e-20,k_max=6)\n",
    "    \n",
    "    #plot\n",
    "    fig = plt.figure()\n",
    "    ax = fig.add_subplot(1,1,1)\n",
    "    ax.plot(k_1_payg,k_2_payg,label=\"PAYG\")\n",
    "    ax.plot(k_1,k_2,label=\"Baseline\")\n",
    "    ax.plot(k_1_payg,k_1_payg, '--', color='grey')\n",
    "    ax.set_xlabel('$k_t$')\n",
    "    ax.set_ylabel('$k_t+1$')\n",
    "    ax.set_title('Transition curve')\n",
    "    ax.set_xlim([0,0.2])\n",
    "    ax.set_ylim([0,0.2]);\n",
    "    ax.legend()\n",
    "    return\n",
    "\n",
    "import ipywidgets as widgets\n",
    "widgets.interact(fig_payg, \n",
    "    tau = widgets.FloatSlider(description='tau', min=0, max=1, step=0.01, value=0.3),\n",
    ");"
   ]
  },
  {
   "cell_type": "markdown",
   "metadata": {},
   "source": [
    "We see that when the tax rate increases the steady state capital decreases. This decrease in steady state capital happens through two channels:\n",
    "1) When the tax rate increases the young have a lower disposable income and need to save less to obtain same level of consumption in period 1.\n",
    "2) When the tax rate increases the old receive higher level of social benefit. This means that they can (and will) save less when young, and still obtain the same level of consumption in period 2."
   ]
  },
  {
   "cell_type": "markdown",
   "metadata": {},
   "source": [
    "# Numerical optimization"
   ]
  },
  {
   "cell_type": "markdown",
   "metadata": {},
   "source": [
    "We want to optimize capital and solve for $w^*$, $s^*$,$c_{1}^*$, $c_{2}^*$ and $u^*$:"
   ]
  },
  {
   "cell_type": "code",
   "execution_count": 32,
   "metadata": {},
   "outputs": [],
   "source": [
    "def save_func(k,alpha,tau,rho):\n",
    "    \"\"\"\n",
    "    Returns:\n",
    "    Optimal savings\n",
    "    \n",
    "    args:\n",
    "    k(float): Capital\n",
    "    \n",
    "    output:\n",
    "    Computes the optimal savings for calibrated parameters and initial capital stock\n",
    "    \"\"\"\n",
    "    sav = (k**alpha*(1-alpha)*(-alpha*k**(alpha-1)*tau+alpha*k**(alpha-1)-rho*tau-2*tau+1)/(alpha*k**(alpha-1)*rho+2*alpha*k**(alpha-1)+rho+2)-k)\n",
    "    return sav\n",
    "\n",
    "def obj(k,alpha,tau,rho):\n",
    "    return -save_func(k,alpha,tau,rho)\n",
    "\n",
    "def optimizer(obj,k,alpha,tau,rho):\n",
    "    res = optimize.minimize_scalar(obj,method=\"bounded\",bounds=(0,1),args=(rho,alpha,tau))\n",
    "    return res"
   ]
  },
  {
   "cell_type": "code",
   "execution_count": 33,
   "metadata": {},
   "outputs": [],
   "source": [
    "def ss_vals(obj,k,alpha,tau,rho,n):\n",
    "    \"\"\"\n",
    "    Returns:\n",
    "    Steady state values\n",
    "    \n",
    "    Args:\n",
    "    obj(func): Objective function to maximize\n",
    "    k(float): Initial level of capital\n",
    "    alpha(float): Capital income sharee\n",
    "    tau(float): Taxrate\n",
    "    rho(float): Timepreference parameter\n",
    "    n(float): Population growth\n",
    "    \n",
    "    output:\n",
    "    Computes the steady state values with the optimal capital level\n",
    "    \"\"\"\n",
    "    \n",
    "    nice = optimizer(obj,k,alpha,tau,rho)\n",
    "    kstar = nice.x\n",
    "    wstar = kstar**alpha * (1-alpha)\n",
    "    sstar = kstar/(1+n)\n",
    "    c1_star = wstar-sstar-tau*wstar\n",
    "    c2_star = (1+(alpha*kstar**(alpha-1)))*sstar+tau*wstar\n",
    "    u_star = c1_star + 1/(1+rho) * c2_star\n",
    "    \n",
    "    print(f'Steady state capital is {kstar:.5f}')\n",
    "    print(f'wage in steady state is {wstar:.5f}')\n",
    "    print(f'Savings in steady state is {sstar:.5f}')\n",
    "    print(f'In steady state the young consume {c1_star:.5f}')\n",
    "    print(f'In steady state the old consume {c2_star:.5f}')\n",
    "    print(f'The utility is {u_star:.5f}')\n",
    "    return"
   ]
  },
  {
   "cell_type": "markdown",
   "metadata": {},
   "source": [
    "Steady state values in the baseline model: "
   ]
  },
  {
   "cell_type": "code",
   "execution_count": 34,
   "metadata": {},
   "outputs": [
    {
     "name": "stdout",
     "output_type": "stream",
     "text": [
      "Steady state capital is 0.00538\n",
      "wage in steady state is 0.11681\n",
      "Savings in steady state is 0.00448\n",
      "In steady state the young consume 0.11233\n",
      "In steady state the old consume 0.05315\n",
      "The utility is 0.14776\n"
     ]
    }
   ],
   "source": [
    "ss_vals(obj,k,1/3,0,0.5,0.2)"
   ]
  },
  {
   "cell_type": "markdown",
   "metadata": {},
   "source": [
    "Steady state values in the extended model:"
   ]
  },
  {
   "cell_type": "code",
   "execution_count": 35,
   "metadata": {},
   "outputs": [
    {
     "name": "stdout",
     "output_type": "stream",
     "text": [
      "Steady state capital is 0.00392\n",
      "wage in steady state is 0.10508\n",
      "Savings in steady state is 0.00326\n",
      "In steady state the young consume 0.07030\n",
      "In steady state the old consume 0.07857\n",
      "The utility is 0.12268\n"
     ]
    }
   ],
   "source": [
    "ss_vals(obj,k,1/3,0.3,0.5,0.2)"
   ]
  },
  {
   "cell_type": "markdown",
   "metadata": {},
   "source": [
    "# Conclusion"
   ]
  },
  {
   "cell_type": "markdown",
   "metadata": {},
   "source": [
    "As expected the inclusion of a PAYG social security system decreases the steady state capital level for realistic parameter values. Furthemore, we confirm that with a social security system in place the young save less because they can obtain the same level of consumption as old. However, the overall welfare is lower in the extended model because the disposable income is lower which decreases consumption as young. "
   ]
  }
 ],
 "metadata": {
  "kernelspec": {
   "display_name": "Python 3",
   "language": "python",
   "name": "python3"
  },
  "language_info": {
   "codemirror_mode": {
    "name": "ipython",
    "version": 3
   },
   "file_extension": ".py",
   "mimetype": "text/x-python",
   "name": "python",
   "nbconvert_exporter": "python",
   "pygments_lexer": "ipython3",
   "version": "3.8.5"
  }
 },
 "nbformat": 4,
 "nbformat_minor": 4
}
