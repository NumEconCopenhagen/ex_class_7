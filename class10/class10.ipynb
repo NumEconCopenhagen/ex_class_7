{
 "cells": [
  {
   "cell_type": "markdown",
   "id": "warming-forwarding",
   "metadata": {
    "slideshow": {
     "slide_type": "slide"
    }
   },
   "source": [
    "<img src=\"figs/ku_logo_uk_v.png\" alt=\"drawing\" width=\"130\" style=\"float:right\"/>\n",
    "\n",
    "#  <p style=\"text-align: center;\"><span style=\"color:#2c061f\"> Class 10, Problem Set 6 </span></p>\n",
    "\n",
    "<br>\n",
    "\n",
    "## <span style=\"color:#374045\"> Introduction to Programming and Numerical Analysis </span>\n"
   ]
  },
  {
   "cell_type": "markdown",
   "id": "rural-apartment",
   "metadata": {
    "slideshow": {
     "slide_type": "slide"
    }
   },
   "source": [
    "<img src=\"figs/ku_logo_uk_v.png\" alt=\"drawing\" width=\"130\" style=\"float:right\"/>\n",
    "\n",
    "## <p style=\"text-align: center;\"> Data project </p>\n",
    "<br>\n",
    "\n",
    "Overall good projects but for the model project and at the exam think about:\n",
    "* Explanatory markdown\n",
    "* Don't repeat yourselves\n",
    "* Thoughtful plotting\n",
    "* **RESTART KERNEL AND RUN ALL CELLS**"
   ]
  },
  {
   "cell_type": "markdown",
   "id": "pleased-hostel",
   "metadata": {
    "slideshow": {
     "slide_type": "slide"
    }
   },
   "source": [
    "<img src=\"figs/ku_logo_uk_v.png\" alt=\"drawing\" width=\"130\" style=\"float:right\"/>\n",
    "\n",
    "## <p style=\"text-align: center;\"> Plan for today </p>\n",
    "<br>\n",
    "\n",
    "1. Working with equations\n",
    "    * SciPy linalg\n",
    "    * SymPy\n",
    "2. Working on PS6"
   ]
  },
  {
   "cell_type": "markdown",
   "id": "disturbed-method",
   "metadata": {
    "slideshow": {
     "slide_type": "slide"
    }
   },
   "source": [
    "<img src=\"figs/ku_logo_uk_v.png\" alt=\"drawing\" width=\"130\" style=\"float:right\"/>\n",
    "\n",
    "## <p style=\"text-align: center;\"> SciPy linalg</p>\n",
    "<br>\n",
    "\n",
    "Another one of SciPy's modules: `from scipy import linalg`\n",
    "* Makes any operation within the realm of linear algebra:\n",
    "    * Matrix product\n",
    "    * Solve system of equations\n",
    "    * Find eigenvalues\n",
    "    * ... and so on"
   ]
  },
  {
   "cell_type": "markdown",
   "id": "closing-latest",
   "metadata": {
    "slideshow": {
     "slide_type": "slide"
    }
   },
   "source": [
    "<img src=\"figs/ku_logo_uk_v.png\" alt=\"drawing\" width=\"130\" style=\"float:right\"/>\n",
    "\n",
    "## <p style=\"text-align: center;\"> SciPy linalg</p>\n",
    "<br>\n",
    "\n",
    "Let's solve:\n",
    "\n",
    "$$\n",
    "\\begin{aligned}\n",
    "Ax &= b\n",
    "\\end{aligned}\n",
    "$$"
   ]
  },
  {
   "cell_type": "code",
   "execution_count": 1,
   "id": "logical-connection",
   "metadata": {
    "slideshow": {
     "slide_type": "fragment"
    }
   },
   "outputs": [
    {
     "name": "stdout",
     "output_type": "stream",
     "text": [
      "Matrix A:\n",
      "[[0.33224607 0.71427591 0.37834749 0.24908241 0.83598633]\n",
      " [0.02005845 0.32670359 0.05606653 0.4008206  0.13288711]\n",
      " [0.88711192 0.15490098 0.01708181 0.95781716 0.58999632]\n",
      " [0.83959058 0.7146372  0.58705537 0.40933648 0.14603168]\n",
      " [0.16407166 0.65717511 0.146494   0.67717016 0.47425348]]\n",
      "\n",
      "Matrix b:\n",
      " [0.78485347 0.85159023 0.84757586 0.42016935 0.20991113]\n"
     ]
    }
   ],
   "source": [
    "import numpy as np\n",
    "from scipy import linalg\n",
    "np.random.seed(1900)\n",
    "A = np.random.uniform(size=(5,5))\n",
    "b = np.random.uniform(size=5)\n",
    "print(f'Matrix A:\\n{A}\\n\\nMatrix b:\\n {b}')"
   ]
  },
  {
   "cell_type": "code",
   "execution_count": 2,
   "id": "smooth-asian",
   "metadata": {
    "slideshow": {
     "slide_type": "slide"
    }
   },
   "outputs": [
    {
     "name": "stdout",
     "output_type": "stream",
     "text": [
      "[-15.33189031 -24.00998148  40.02675108  15.24193293   4.89008792]\n"
     ]
    }
   ],
   "source": [
    "# Solve using LU factorization -> Split A in an upper and lower triangular matrix -> Speed\n",
    "# LU factorize A using linalg\n",
    "LU,piv = linalg.lu_factor(A)\n",
    "# Solve using linalg\n",
    "x = linalg.lu_solve((LU,piv),b)\n",
    "print(x)"
   ]
  },
  {
   "cell_type": "code",
   "execution_count": 3,
   "id": "commercial-perception",
   "metadata": {
    "slideshow": {
     "slide_type": "slide"
    }
   },
   "outputs": [
    {
     "name": "stdout",
     "output_type": "stream",
     "text": [
      "[-15.33189031 -24.00998148  40.02675108  15.24193293   4.89008792]\n"
     ]
    }
   ],
   "source": [
    "# Regular solve\n",
    "print(linalg.solve(A,b))"
   ]
  },
  {
   "cell_type": "markdown",
   "id": "opened-sperm",
   "metadata": {
    "slideshow": {
     "slide_type": "slide"
    }
   },
   "source": [
    "<img src=\"figs/ku_logo_uk_v.png\" alt=\"drawing\" width=\"130\" style=\"float:right\"/>\n",
    "\n",
    "## <p style=\"text-align: center;\"> SciPy linalg</p>\n",
    "<br>\n",
    "\n",
    "What do we use it for?\n",
    "\n",
    "In the first question of the exam 2020 you had to implement the OLS estimator using linear algebra. Recall that:\n",
    "\n",
    "$$\n",
    "\\hat{\\beta} = (X'X)^{-1}X'y\n",
    "$$\n",
    "\n",
    "and can thus, be solved using linalg"
   ]
  },
  {
   "cell_type": "markdown",
   "id": "organized-satisfaction",
   "metadata": {
    "slideshow": {
     "slide_type": "slide"
    }
   },
   "source": [
    "<img src=\"figs/ku_logo_uk_v.png\" alt=\"drawing\" width=\"130\" style=\"float:right\"/>\n",
    "\n",
    "## <p style=\"text-align: center;\"> SymPy</p>\n",
    "<br>\n",
    "\n",
    "SymPy is a Python library for symbolic mathematics and lets you solve equations analytically! (Kinda like WolframAlpha or Symbolab). Let's check it out"
   ]
  },
  {
   "cell_type": "markdown",
   "id": "french-ecuador",
   "metadata": {
    "slideshow": {
     "slide_type": "slide"
    }
   },
   "source": [
    "<img src=\"figs/ku_logo_uk_v.png\" alt=\"drawing\" width=\"130\" style=\"float:right\"/>\n",
    "\n",
    "## <p style=\"text-align: center;\"> SymPy</p>\n",
    "<br>\n",
    "\n",
    "Say that you want implement the utility function of standard OLG agent. We assume agents derive utility from consumption in both periods:\n",
    "\n",
    "$$ U_t = u(c_{1t}) + \\frac{1}{1+\\rho} u(c_{2t+1}) $$\n",
    "\n",
    "Furthermore, we assume log-preferences"
   ]
  },
  {
   "cell_type": "code",
   "execution_count": 4,
   "id": "brief-zoning",
   "metadata": {
    "slideshow": {
     "slide_type": "slide"
    }
   },
   "outputs": [
    {
     "data": {
      "text/latex": [
       "$\\displaystyle \\log{\\left(c_{1t} \\right)} + \\frac{\\log{\\left(c_{2t+1} \\right)}}{\\rho + 1}$"
      ],
      "text/plain": [
       "log(c_1t) + log(c_2t+1)/(rho + 1)"
      ]
     },
     "metadata": {},
     "output_type": "display_data"
    }
   ],
   "source": [
    "import sympy as sm\n",
    "# Initialize variabels in Sympy\n",
    "c1,c2 = sm.symbols('c_1t'), sm.symbols('c_2t+1')\n",
    "rho = sm.symbols('rho')\n",
    "\n",
    "# Setup utility in sympy\n",
    "uc1 = sm.ln(c1)\n",
    "uc2 = sm.ln(c2)\n",
    "U = uc1 + 1/(1+rho) * uc2\n",
    "display(U)"
   ]
  },
  {
   "cell_type": "markdown",
   "id": "tested-harassment",
   "metadata": {
    "slideshow": {
     "slide_type": "slide"
    }
   },
   "source": [
    "<img src=\"figs/ku_logo_uk_v.png\" alt=\"drawing\" width=\"130\" style=\"float:right\"/>\n",
    "\n",
    "## <p style=\"text-align: center;\"> SymPy</p>\n",
    "<br>\n",
    "\n",
    "With SymPy we are able to do many calculations. Say that we need the derivate of U w.r.t. $c_{2t+1}$:"
   ]
  },
  {
   "cell_type": "code",
   "execution_count": 5,
   "id": "conscious-seven",
   "metadata": {
    "slideshow": {
     "slide_type": "fragment"
    }
   },
   "outputs": [
    {
     "data": {
      "text/latex": [
       "$\\displaystyle \\frac{1}{c_{2t+1} \\left(\\rho + 1\\right)}$"
      ],
      "text/plain": [
       "1/(c_2t+1*(rho + 1))"
      ]
     },
     "execution_count": 5,
     "metadata": {},
     "output_type": "execute_result"
    }
   ],
   "source": [
    "# We just use SymPy's .diff() method:\n",
    "sm.diff(U,c2)"
   ]
  },
  {
   "cell_type": "markdown",
   "id": "instant-columbus",
   "metadata": {
    "slideshow": {
     "slide_type": "slide"
    }
   },
   "source": [
    "<img src=\"figs/ku_logo_uk_v.png\" alt=\"drawing\" width=\"130\" style=\"float:right\"/>\n",
    "\n",
    "## <p style=\"text-align: center;\"> SymPy</p>\n",
    "<br>\n",
    "\n",
    "Another cool feature is that you can turn your SymPy equations into python functions. This can really tie your model projects together:\n",
    "* Solve model analytically with SymPy\n",
    "* Convert your solution to a python function e.g. the law-of-motion in OLG\n",
    "* Find steady state level of capital using an optimizer\n",
    "\n",
    "How is it done?"
   ]
  },
  {
   "cell_type": "code",
   "execution_count": 6,
   "id": "literary-optimum",
   "metadata": {
    "slideshow": {
     "slide_type": "slide"
    }
   },
   "outputs": [
    {
     "data": {
      "text/plain": [
       "3.836311550582437"
      ]
     },
     "execution_count": 6,
     "metadata": {},
     "output_type": "execute_result"
    }
   ],
   "source": [
    "# Use SymPy's lambdify method which takes an iterable of arguments in our case the consumption and the parameter rho\n",
    "# and of course the function in our case U\n",
    "util = sm.lambdify((c1,c2,rho),U)\n",
    "\n",
    "# Compute some utility \n",
    "util(7,8,0.1)"
   ]
  },
  {
   "cell_type": "markdown",
   "id": "wrapped-lighter",
   "metadata": {
    "slideshow": {
     "slide_type": "slide"
    }
   },
   "source": [
    "<img src=\"figs/ku_logo_uk_v.png\" alt=\"drawing\" width=\"130\" style=\"float:right\"/>\n",
    "\n",
    "## <p style=\"text-align: center;\"> PS6</p>\n",
    "<br>\n",
    "Start from 2.3 or watch the video on Absalon about solving system of equations\n"
   ]
  }
 ],
 "metadata": {
  "celltoolbar": "Slideshow",
  "kernelspec": {
   "display_name": "Python 3",
   "language": "python",
   "name": "python3"
  },
  "language_info": {
   "codemirror_mode": {
    "name": "ipython",
    "version": 3
   },
   "file_extension": ".py",
   "mimetype": "text/x-python",
   "name": "python",
   "nbconvert_exporter": "python",
   "pygments_lexer": "ipython3",
   "version": "3.8.5"
  }
 },
 "nbformat": 4,
 "nbformat_minor": 5
}
