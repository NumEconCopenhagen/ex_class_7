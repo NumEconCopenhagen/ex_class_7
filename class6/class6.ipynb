{
 "cells": [
  {
   "cell_type": "markdown",
   "id": "warming-forwarding",
   "metadata": {
    "slideshow": {
     "slide_type": "slide"
    }
   },
   "source": [
    "<img src=\"figs/ku_logo_uk_v.png\" alt=\"drawing\" width=\"130\" style=\"float:right\"/>\n",
    "\n",
    "#  <p style=\"text-align: center;\"><span style=\"color:#2c061f\"> Class 6, Problem Set 3 </span></p>\n",
    "\n",
    "<br>\n",
    "\n",
    "## <span style=\"color:#374045\"> Introduction to Programming and Numerical Analysis </span>\n"
   ]
  },
  {
   "cell_type": "markdown",
   "id": "pleased-hostel",
   "metadata": {
    "slideshow": {
     "slide_type": "slide"
    }
   },
   "source": [
    "<img src=\"figs/ku_logo_uk_v.png\" alt=\"drawing\" width=\"130\" style=\"float:right\"/>\n",
    "\n",
    "## <p style=\"text-align: center;\"> Plan for today </p>\n",
    "<br>\n",
    "\n",
    "1. pandas\n",
    "    * The go to package when handling data\n",
    "    * Some syntax\n",
    "2. Work on PS3"
   ]
  },
  {
   "cell_type": "markdown",
   "id": "covered-invention",
   "metadata": {
    "slideshow": {
     "slide_type": "slide"
    }
   },
   "source": [
    "<img src=\"figs/ku_logo_uk_v.png\" alt=\"drawing\" width=\"130\" style=\"float:right\"/>\n",
    "\n",
    "## <p style=\"text-align: center;\"> pandas </p>\n",
    "<br>\n",
    "\n",
    "\"`pandas` is an open source, BSD-licensed library providing high-performance, easy-to-use data structures and data analysis tools for the Python programming language.\"\n",
    "\n",
    "[Extra help can be found here](https://pandas.pydata.org/docs/getting_started/index.html#getting-started)\n"
   ]
  },
  {
   "cell_type": "markdown",
   "id": "silent-relations",
   "metadata": {
    "slideshow": {
     "slide_type": "slide"
    }
   },
   "source": [
    "<img src=\"figs/ku_logo_uk_v.png\" alt=\"drawing\" width=\"130\" style=\"float:right\"/>\n",
    "\n",
    "## <p style=\"text-align: center;\"> pandas </p>\n",
    "<br>\n",
    "\n",
    "* When working with data we will be working with pandas' DataFrame: \"Two-dimensional, size-mutable, potentially heterogeneous tabular data\"\n",
    "    * \"Classic\" dataset\n",
    "    * A class in python with many methods!"
   ]
  },
  {
   "cell_type": "markdown",
   "id": "instructional-cruise",
   "metadata": {
    "slideshow": {
     "slide_type": "slide"
    }
   },
   "source": [
    "<img src=\"figs/ku_logo_uk_v.png\" alt=\"drawing\" width=\"130\" style=\"float:right\"/>\n",
    "\n",
    "## <p style=\"text-align: center;\"> pandas </p>\n",
    "<br>\n",
    "\n",
    "* What does a DataFrame look like?\n",
    "    * You can read csv, xlsx, sas etc. but also create DataFrames from dictionaries"
   ]
  },
  {
   "cell_type": "code",
   "execution_count": null,
   "id": "simplified-favorite",
   "metadata": {
    "slideshow": {
     "slide_type": "fragment"
    }
   },
   "outputs": [],
   "source": [
    "import pandas as pd\n",
    "\n",
    "# Reading data using built in method read_csv. For other formats there are read_excel() and so on\n",
    "pd.read_csv('random_txt.txt', sep='\\t')"
   ]
  },
  {
   "cell_type": "code",
   "execution_count": null,
   "id": "deluxe-official",
   "metadata": {
    "slideshow": {
     "slide_type": "slide"
    }
   },
   "outputs": [],
   "source": [
    "# Using a dict to return a DataFrame\n",
    "data_dict = {'random_integers' : [1, 45, 54, 12498134, 666]\n",
    "            , 'random_strings' : ['one', 'forty-five', 'abc', 'Pandas is cool', '9.11 was an inside job']\n",
    "            }\n",
    "print(data_dict,'\\n')\n",
    "\n",
    "# Convert dict to df\n",
    "df = pd.DataFrame(data_dict)\n",
    "\n",
    "print(type(df))\n",
    "\n",
    "# Look at the first 5 rows\n",
    "df.head(5) # .tail() will give you the last x rows"
   ]
  },
  {
   "cell_type": "markdown",
   "id": "silent-desktop",
   "metadata": {
    "slideshow": {
     "slide_type": "slide"
    }
   },
   "source": [
    "<img src=\"figs/ku_logo_uk_v.png\" alt=\"drawing\" width=\"130\" style=\"float:right\"/>\n",
    "\n",
    "## <p style=\"text-align: center;\"> pandas </p>\n",
    "<br>\n",
    "\n",
    "* Now we know how to load data - how do wrangle it? Lets go through som basics\n",
    "    * Accesing/creating columns\n",
    "    * Subsetting DataFrames"
   ]
  },
  {
   "cell_type": "code",
   "execution_count": null,
   "id": "precious-nerve",
   "metadata": {
    "slideshow": {
     "slide_type": "slide"
    }
   },
   "outputs": [],
   "source": [
    "# You can acces columns in many ways\n",
    "df['random_integers']\n",
    "df.random_integers\n",
    "df.loc[:,'random_integers']\n",
    "df.iloc[:,0]"
   ]
  },
  {
   "cell_type": "code",
   "execution_count": null,
   "id": "jewish-submission",
   "metadata": {
    "slideshow": {
     "slide_type": "slide"
    }
   },
   "outputs": [],
   "source": [
    "# Add new columns\n",
    "df['new_column'] = df['random_integers']/2 # math is allowed\n",
    "df['new_column_list'] = [int(i*2) for i in df.new_column] # lists can be added as columns\n",
    "df.head()"
   ]
  },
  {
   "cell_type": "code",
   "execution_count": null,
   "id": "naughty-flood",
   "metadata": {
    "slideshow": {
     "slide_type": "slide"
    }
   },
   "outputs": [],
   "source": [
    "# Subset DataFrames\n",
    "boolean_array = df['random_integers'] > 100\n",
    "print(boolean_array)\n",
    "\n",
    "df_new = df.loc[boolean_array, ['random_strings']]\n",
    "df_new"
   ]
  },
  {
   "cell_type": "code",
   "execution_count": null,
   "id": "criminal-lambda",
   "metadata": {
    "slideshow": {
     "slide_type": "slide"
    }
   },
   "outputs": [],
   "source": [
    "# Subset DataFrames - pandas is very flexible\n",
    "# Apply condition\n",
    "df_new = df[df.random_integers > 100]\n",
    "df_new = df[~ (df['random_integers'] < 100)]\n",
    "#df_new.head()\n",
    "# Subset data\n",
    "df_new = df_new[['random_strings']]\n",
    "df_new = df_new.drop(columns=['random_integers', 'new_column', 'new_column_list'])\n",
    "df_new = df_new.iloc[:,[1]]\n",
    "df_new.head()"
   ]
  },
  {
   "cell_type": "markdown",
   "id": "early-single",
   "metadata": {
    "slideshow": {
     "slide_type": "slide"
    }
   },
   "source": [
    "<img src=\"figs/ku_logo_uk_v.png\" alt=\"drawing\" width=\"130\" style=\"float:right\"/>\n",
    "\n",
    "## <p style=\"text-align: center;\"> pandas </p>\n",
    "<br>\n",
    "\n",
    "* We have now seen that all roads lead to rome\n",
    "* Remember the answers to the PS is suggested answers: what matters is the right result\n",
    "* However, don't over complicate things"
   ]
  },
  {
   "cell_type": "markdown",
   "id": "modern-student",
   "metadata": {
    "slideshow": {
     "slide_type": "slide"
    }
   },
   "source": [
    "<img src=\"figs/ku_logo_uk_v.png\" alt=\"drawing\" width=\"130\" style=\"float:right\"/>\n",
    "\n",
    "## <p style=\"text-align: center;\"> Problem set 3 </p>\n",
    "<br>\n",
    "\n",
    "Let's go!"
   ]
  }
 ],
 "metadata": {
  "celltoolbar": "Slideshow",
  "kernelspec": {
   "display_name": "Python 3",
   "language": "python",
   "name": "python3"
  },
  "language_info": {
   "codemirror_mode": {
    "name": "ipython",
    "version": 3
   },
   "file_extension": ".py",
   "mimetype": "text/x-python",
   "name": "python",
   "nbconvert_exporter": "python",
   "pygments_lexer": "ipython3",
   "version": "3.8.5"
  }
 },
 "nbformat": 4,
 "nbformat_minor": 5
}
