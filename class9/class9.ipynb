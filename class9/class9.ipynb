{
 "cells": [
  {
   "cell_type": "markdown",
   "id": "warming-forwarding",
   "metadata": {
    "slideshow": {
     "slide_type": "slide"
    }
   },
   "source": [
    "<img src=\"figs/ku_logo_uk_v.png\" alt=\"drawing\" width=\"130\" style=\"float:right\"/>\n",
    "\n",
    "#  <p style=\"text-align: center;\"><span style=\"color:#2c061f\"> Class 9, Problem Set 5 </span></p>\n",
    "\n",
    "<br>\n",
    "\n",
    "## <span style=\"color:#374045\"> Introduction to Programming and Numerical Analysis </span>\n"
   ]
  },
  {
   "cell_type": "markdown",
   "id": "rural-apartment",
   "metadata": {
    "slideshow": {
     "slide_type": "slide"
    }
   },
   "source": [
    "<img src=\"figs/ku_logo_uk_v.png\" alt=\"drawing\" width=\"130\" style=\"float:right\"/>\n",
    "\n",
    "## <p style=\"text-align: center;\"> Data project </p>\n",
    "<br>\n",
    "\n",
    "I am halfway through and it is looking good!\n",
    "\n",
    "You will have your feedback by the end of the week"
   ]
  },
  {
   "cell_type": "markdown",
   "id": "pleased-hostel",
   "metadata": {
    "slideshow": {
     "slide_type": "slide"
    }
   },
   "source": [
    "<img src=\"figs/ku_logo_uk_v.png\" alt=\"drawing\" width=\"130\" style=\"float:right\"/>\n",
    "\n",
    "## <p style=\"text-align: center;\"> Plan for today </p>\n",
    "<br>\n",
    "\n",
    "1. Algorithms\n",
    "    * Short intro\n",
    "    * Bisection\n",
    "    * Finding primes\n",
    "2. Working on PS5"
   ]
  },
  {
   "cell_type": "markdown",
   "id": "disturbed-method",
   "metadata": {
    "slideshow": {
     "slide_type": "slide"
    }
   },
   "source": [
    "<img src=\"figs/ku_logo_uk_v.png\" alt=\"drawing\" width=\"130\" style=\"float:right\"/>\n",
    "\n",
    "## <p style=\"text-align: center;\"> Algorithms</p>\n",
    "<br>\n",
    "\n",
    "**In a nut shell:** A cooking recipe.\n",
    "\n",
    "    1. Preheat the oven\n",
    "    2. Mix flour, sugar and eggs\n",
    "    3. Pour into a baking pan\n",
    "    etc."
   ]
  },
  {
   "cell_type": "markdown",
   "id": "common-istanbul",
   "metadata": {
    "slideshow": {
     "slide_type": "slide"
    }
   },
   "source": [
    "<img src=\"figs/ku_logo_uk_v.png\" alt=\"drawing\" width=\"130\" style=\"float:right\"/>\n",
    "\n",
    "## <p style=\"text-align: center;\"> Algorithms</p>\n",
    "<br>\n",
    "\n",
    "**From Wiki:**\n",
    "\n",
    "<em>\"an algorithm is a finite sequence of well-defined, computer-implementable instructions, typically to solve a class of problems or to perform a computation. Algorithms are always unambiguous...\""
   ]
  },
  {
   "cell_type": "markdown",
   "id": "primary-trustee",
   "metadata": {
    "slideshow": {
     "slide_type": "slide"
    }
   },
   "source": [
    "<img src=\"figs/ku_logo_uk_v.png\" alt=\"drawing\" width=\"130\" style=\"float:right\"/>\n",
    "\n",
    "## <p style=\"text-align: center;\"> Algorithms</p>\n",
    "<br>\n",
    "\n",
    "**Solving a problem with an algorithmic approach:**\n",
    "\n",
    "1. Unambigious termination criteria\n",
    "2. Pre-defined inputs\n",
    "3. Pre-defined outputs\n",
    "4. **Instructions**\n",
    "\n",
    "Will result in:\n",
    "\n",
    "5. Guaranteed finite runtime\n",
    "6. Correct result"
   ]
  },
  {
   "cell_type": "markdown",
   "id": "charming-hunger",
   "metadata": {
    "slideshow": {
     "slide_type": "slide"
    }
   },
   "source": [
    "<img src=\"figs/ku_logo_uk_v.png\" alt=\"drawing\" width=\"130\" style=\"float:right\"/>\n",
    "\n",
    "## <p style=\"text-align: center;\"> Bisection visualized</p>\n",
    "<br>\n",
    "\n",
    "<img src=\"bisection.pbm\" alt=\"drawing\" width=\"700\"/>"
   ]
  },
  {
   "cell_type": "markdown",
   "id": "faced-jackson",
   "metadata": {
    "slideshow": {
     "slide_type": "slide"
    }
   },
   "source": [
    "<img src=\"figs/ku_logo_uk_v.png\" alt=\"drawing\" width=\"130\" style=\"float:right\"/>\n",
    "\n",
    "## <p style=\"text-align: center;\"> Finding primes</p>\n",
    "<br>\n",
    "\n",
    "**Watch this [video](https://www.youtube.com/watch?v=klcIklsWzrY)**"
   ]
  },
  {
   "cell_type": "markdown",
   "id": "bigger-potential",
   "metadata": {
    "slideshow": {
     "slide_type": "slide"
    }
   },
   "source": [
    "<img src=\"figs/ku_logo_uk_v.png\" alt=\"drawing\" width=\"130\" style=\"float:right\"/>\n",
    "\n",
    "## <p style=\"text-align: center;\"> PS5</p>\n",
    "<br>\n",
    "\n",
    "Let's go!"
   ]
  }
 ],
 "metadata": {
  "celltoolbar": "Slideshow",
  "kernelspec": {
   "display_name": "Python 3",
   "language": "python",
   "name": "python3"
  },
  "language_info": {
   "codemirror_mode": {
    "name": "ipython",
    "version": 3
   },
   "file_extension": ".py",
   "mimetype": "text/x-python",
   "name": "python",
   "nbconvert_exporter": "python",
   "pygments_lexer": "ipython3",
   "version": "3.8.5"
  }
 },
 "nbformat": 4,
 "nbformat_minor": 5
}
