{
 "cells": [
  {
   "cell_type": "markdown",
   "id": "warming-forwarding",
   "metadata": {
    "slideshow": {
     "slide_type": "slide"
    }
   },
   "source": [
    "<img src=\"figs/ku_logo_uk_v.png\" alt=\"drawing\" width=\"130\" style=\"float:right\"/>\n",
    "\n",
    "#  <p style=\"text-align: center;\"><span style=\"color:#2c061f\"> Class 7, Problem Set 4 </span></p>\n",
    "\n",
    "<br>\n",
    "\n",
    "## <span style=\"color:#374045\"> Introduction to Programming and Numerical Analysis </span>\n"
   ]
  },
  {
   "cell_type": "markdown",
   "id": "pleased-hostel",
   "metadata": {
    "slideshow": {
     "slide_type": "slide"
    }
   },
   "source": [
    "<img src=\"figs/ku_logo_uk_v.png\" alt=\"drawing\" width=\"130\" style=\"float:right\"/>\n",
    "\n",
    "## <p style=\"text-align: center;\"> Plan for today </p>\n",
    "<br>\n",
    "\n",
    "1. Inaugural project\n",
    "2. Data project\n",
    "3. Working on PS4\n",
    "    * Concepts\n",
    "    * Split-apply-combine"
   ]
  },
  {
   "cell_type": "markdown",
   "id": "covered-invention",
   "metadata": {
    "slideshow": {
     "slide_type": "slide"
    }
   },
   "source": [
    "<img src=\"figs/ku_logo_uk_v.png\" alt=\"drawing\" width=\"130\" style=\"float:right\"/>\n",
    "\n",
    "## <p style=\"text-align: center;\"> Inuagural project </p>\n",
    "<br>\n",
    "\n",
    "* Overall **solid** projects\n",
    "* Remember that markdown is your friend and proof-reading is too!\n",
    "* Non-passed projects should be handed in along with the data project"
   ]
  },
  {
   "cell_type": "markdown",
   "id": "charming-copper",
   "metadata": {
    "slideshow": {
     "slide_type": "slide"
    }
   },
   "source": [
    "<img src=\"figs/ku_logo_uk_v.png\" alt=\"drawing\" width=\"130\" style=\"float:right\"/>\n",
    "\n",
    "## <p style=\"text-align: center;\"> Working in Jupyter Lab </p>\n",
    "<br>\n",
    "\n",
    "**IMPORTANT**: when your are done and ready to hand-in:\n",
    "\n",
    "<p style=\"text-align: center;\"> <span style=\"color:green\">Restart kernel and run all cells</span> </p>"
   ]
  },
  {
   "cell_type": "markdown",
   "id": "exceptional-fundamentals",
   "metadata": {
    "slideshow": {
     "slide_type": "slide"
    }
   },
   "source": [
    "<img src=\"figs/ku_logo_uk_v.png\" alt=\"drawing\" width=\"130\" style=\"float:right\"/>\n",
    "\n",
    "## <p style=\"text-align: center;\"> Data project </p>\n",
    "<br>\n",
    "\n",
    "* From the start bear in mind that you should tell a good story\n",
    "    * Nice documentation\n",
    "    * Nice visuals\n",
    "    * Nice markdown\n",
    "    * Nice (sub-) conlusion(s) ... and so on\n",
    "* Minimum requirements:\n",
    "    * Import data from an online source of your own choosing\n",
    "    * Present the data visually\n",
    "    * Apply some method(s) from descriptive economics "
   ]
  },
  {
   "cell_type": "markdown",
   "id": "magnetic-regression",
   "metadata": {
    "slideshow": {
     "slide_type": "slide"
    }
   },
   "source": [
    "<img src=\"figs/ku_logo_uk_v.png\" alt=\"drawing\" width=\"130\" style=\"float:right\"/>\n",
    "\n",
    "## <p style=\"text-align: center;\"> Remember... </p>\n",
    "<br>\n",
    "\n",
    "that the exam is a portfolio!\n",
    "\n",
    "<br>\n",
    "<br>\n",
    "Using an API, interactive figures, maybe doing some regression/ML? &#8594; Awesome data project &#8594; Higher chance of passing the exam"
   ]
  },
  {
   "cell_type": "markdown",
   "id": "sacred-stylus",
   "metadata": {
    "slideshow": {
     "slide_type": "slide"
    }
   },
   "source": [
    "<img src=\"figs/ku_logo_uk_v.png\" alt=\"drawing\" width=\"130\" style=\"float:right\"/>\n",
    "\n",
    "## <p style=\"text-align: center;\"> PS4 </p>\n",
    "<br>\n",
    "\n",
    "* Get familiar with Jeppes dst-module \n",
    "* The concepts are the same as last time!\n",
    "* Split-apply-combine"
   ]
  },
  {
   "cell_type": "markdown",
   "id": "proved-shaft",
   "metadata": {
    "slideshow": {
     "slide_type": "slide"
    }
   },
   "source": [
    "<img src=\"figs/ku_logo_uk_v.png\" alt=\"drawing\" width=\"130\" style=\"float:right\"/>\n",
    "\n",
    "## <p style=\"text-align: center;\"> Split-apply-combine </p>\n",
    "<br>\n",
    "\n",
    "It is basic data analysis formalized:\n",
    "* Split data into sub-groups\n",
    "* Apply some function for all groups\n",
    "* Combine with your data"
   ]
  },
  {
   "cell_type": "markdown",
   "id": "analyzed-conclusion",
   "metadata": {
    "slideshow": {
     "slide_type": "slide"
    }
   },
   "source": [
    "<img src=\"figs/ku_logo_uk_v.png\" alt=\"drawing\" width=\"130\" style=\"float:right\"/>\n",
    "\n",
    "## <p style=\"text-align: center;\"> Split-apply-combine example </p>\n",
    "<br>\n",
    "\n",
    "Say that you income data for each municipality for each year retrieved using Jeppe's module and you want to see how income is fluctuating around the mean\n",
    "* Group by municipality\n",
    "* Apply a function that calculates the mean income across years e.g. a lambda function or just do it the easy way by column operation\n",
    "* Add this information to your dataset\n",
    "\n",
    "[Complementary to lectures](https://pandas.pydata.org/docs/user_guide/groupby.html)"
   ]
  },
  {
   "cell_type": "markdown",
   "id": "modern-student",
   "metadata": {
    "slideshow": {
     "slide_type": "slide"
    }
   },
   "source": [
    "<img src=\"figs/ku_logo_uk_v.png\" alt=\"drawing\" width=\"130\" style=\"float:right\"/>\n",
    "\n",
    "## <p style=\"text-align: center;\"> PS4</p>\n",
    "<br>\n",
    "\n",
    "Let's go!"
   ]
  }
 ],
 "metadata": {
  "celltoolbar": "Slideshow",
  "kernelspec": {
   "display_name": "Python 3",
   "language": "python",
   "name": "python3"
  },
  "language_info": {
   "codemirror_mode": {
    "name": "ipython",
    "version": 3
   },
   "file_extension": ".py",
   "mimetype": "text/x-python",
   "name": "python",
   "nbconvert_exporter": "python",
   "pygments_lexer": "ipython3",
   "version": "3.8.5"
  }
 },
 "nbformat": 4,
 "nbformat_minor": 5
}
