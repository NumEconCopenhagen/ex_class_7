{
 "cells": [
  {
   "cell_type": "markdown",
   "id": "warming-forwarding",
   "metadata": {
    "slideshow": {
     "slide_type": "slide"
    }
   },
   "source": [
    "<img src=\"figs/ku_logo_uk_v.png\" alt=\"drawing\" width=\"130\" style=\"float:right\"/>\n",
    "\n",
    "#  <p style=\"text-align: center;\"><span style=\"color:#2c061f\"> Class 4, Problem Set 2 </span></p>\n",
    "\n",
    "<br>\n",
    "\n",
    "## <span style=\"color:#374045\"> Introduction to Programming and Numerical Analysis </span>\n"
   ]
  },
  {
   "cell_type": "markdown",
   "id": "pleased-hostel",
   "metadata": {
    "slideshow": {
     "slide_type": "slide"
    }
   },
   "source": [
    "<img src=\"figs/ku_logo_uk_v.png\" alt=\"drawing\" width=\"130\" style=\"float:right\"/>\n",
    "\n",
    "## <p style=\"text-align: center;\"> Plan for today </p>\n",
    "<br>\n",
    "\n",
    "1. Inaugural project\n",
    "    * We will work on it next tuesday\n",
    "    * Deadline March 21, 2021\n",
    "3. Let's GIT it out of the way\n",
    "    * Questionnaire\n",
    "2. Work on PS2"
   ]
  },
  {
   "cell_type": "markdown",
   "id": "refined-investigation",
   "metadata": {
    "slideshow": {
     "slide_type": "slide"
    }
   },
   "source": [
    "<img src=\"figs/ku_logo_uk_v.png\" alt=\"drawing\" width=\"130\" style=\"float:right\"/>\n",
    "\n",
    "## <p style=\"text-align: center;\"> The problem </p>\n",
    "Choose optimal housing and consumption:\n",
    "$$c^*,h^* = \\arg{\\max{c^{(1-\\phi)}h^\\phi}}$$\n",
    "$$s.t.$$\n",
    "$$\\tilde{p}_h = p_h \\epsilon$$\n",
    "$$m = \\tau(p_h, \\tilde{p}_h) + c$$\n",
    "$$\\tau(p_h, \\tilde{p}_h) = rp_h + \\tau^g \\tilde{p}_h + \\tau^p \\max{(\\tilde{p}_h - \\bar{p},0})$$"
   ]
  },
  {
   "cell_type": "markdown",
   "id": "sufficient-biology",
   "metadata": {
    "slideshow": {
     "slide_type": "slide"
    }
   },
   "source": [
    "<img src=\"figs/ku_logo_uk_v.png\" alt=\"drawing\" width=\"130\" style=\"float:right\"/>\n",
    "\n",
    "## <p style=\"text-align: center;\"> Utility is given by: </p>\n",
    "$$u=c^{(1-\\phi)}h^\\phi$$\n",
    "<br>\n",
    "Implement in python:"
   ]
  },
  {
   "cell_type": "code",
   "execution_count": 2,
   "id": "civilian-location",
   "metadata": {
    "slideshow": {
     "slide_type": "fragment"
    }
   },
   "outputs": [],
   "source": [
    "# Exogenous variables as global variables\n",
    "phi = 0.5\n",
    "\n",
    "def utility_function(c, h, phi):\n",
    "    return (c**(1-phi))*(h**phi)\n",
    "\n",
    "# With dictionary of exogenous variables\n",
    "param_dict = {'phi' : 0.5\n",
    "             ,'parameter' : 1.5 # and so on\n",
    "             }\n",
    "    \n",
    "def utility_function(c, h, param_dict):\n",
    "    return (c**(1-param_dict['phi']))*(h**param_dict['phi'])"
   ]
  },
  {
   "cell_type": "markdown",
   "id": "improved-attendance",
   "metadata": {
    "slideshow": {
     "slide_type": "slide"
    }
   },
   "source": [
    "<img src=\"figs/ku_logo_uk_v.png\" alt=\"drawing\" width=\"130\" style=\"float:right\"/>\n",
    "\n",
    "## <p style=\"text-align: center;\"> What about the constraints? </p>\n",
    "\n",
    "Do the same!\n"
   ]
  },
  {
   "cell_type": "code",
   "execution_count": 5,
   "id": "injured-opinion",
   "metadata": {
    "slideshow": {
     "slide_type": "fragment"
    }
   },
   "outputs": [],
   "source": [
    "def cost_of_housing(arguments, param_dict,r, tau_g): # Eq. (4)\n",
    "    return param_dict['r']*p + param_dict['tau_g']*p_tilde #... and so on"
   ]
  },
  {
   "cell_type": "markdown",
   "id": "authorized-ranking",
   "metadata": {
    "slideshow": {
     "slide_type": "slide"
    }
   },
   "source": [
    "<img src=\"figs/ku_logo_uk_v.png\" alt=\"drawing\" width=\"130\" style=\"float:right\"/>\n",
    "\n",
    "## <p style=\"text-align: center;\"> How is the model solved? </p>\n",
    "\n",
    "As consumption, $c$ is implictly given by the constraints you only need the optimizer to find the optimal amount of housing, $h$. \n",
    "\n",
    "This implies that your objective function calculates c given the constraints and returns the (negative) utility"
   ]
  },
  {
   "cell_type": "code",
   "execution_count": 4,
   "id": "theoretical-effects",
   "metadata": {
    "slideshow": {
     "slide_type": "fragment"
    }
   },
   "outputs": [],
   "source": [
    "def value_of_choice(arguments, param_dict):\n",
    "    # Calculate the choice of consumption using the constraints and the functions you have created\n",
    "    # Hint: Use constraints to implicitly find the choice of consumption, c\n",
    "    return -utility_function(h,choice of consumption goes here,param_dict) # '-' because we use .minimize!"
   ]
  },
  {
   "cell_type": "markdown",
   "id": "authorized-company",
   "metadata": {
    "slideshow": {
     "slide_type": "slide"
    }
   },
   "source": [
    "<img src=\"figs/ku_logo_uk_v.png\" alt=\"drawing\" width=\"130\" style=\"float:right\"/>\n",
    "\n",
    "## <p style=\"text-align: center;\"> Write a function that optimize</p>\n",
    "\n",
    "How is it done? - recall PS1/Lecture 3\n",
    "* Create objective funtion\n",
    "* Initial guess\n",
    "* Call optimizer: optimize.minimize() or optimize.minimize_scalar()\n",
    "* Create a print condition that prints out the results\n",
    "* If you want return the values as well\n",
    "\n",
    "Questions?"
   ]
  },
  {
   "cell_type": "markdown",
   "id": "intense-fundamental",
   "metadata": {
    "slideshow": {
     "slide_type": "slide"
    }
   },
   "source": [
    "<img src=\"figs/ku_logo_uk_v.png\" alt=\"drawing\" width=\"130\" style=\"float:right\"/>\n",
    "\n",
    "## <p style=\"text-align: center;\">What's up with GitHub?</p>\n",
    "\n",
    "Let's try to resolve all the issues today\n",
    "\n",
    "Please fill out the questionnaire\n"
   ]
  },
  {
   "cell_type": "markdown",
   "id": "healthy-dance",
   "metadata": {
    "slideshow": {
     "slide_type": "slide"
    }
   },
   "source": [
    "<img src=\"figs/ku_logo_uk_v.png\" alt=\"drawing\" width=\"130\" style=\"float:right\"/>\n",
    "\n",
    "## <p style=\"text-align: center;\">Pulling using VSCode</p>\n",
    "1. Important: always have a working folder and a folder that you pull changes to!\n",
    "2. Click on 'Open folder' in the 'Welcome'-tab and open the local repository\n",
    "3. (a) Press `control/command + shift + p` and enter `Git: Pull`\n",
    "3. (b) Alternative: Press `Synchronize Changes` in the bottom left\n",
    "4. Your folder is now up to date\n"
   ]
  },
  {
   "cell_type": "markdown",
   "id": "actual-announcement",
   "metadata": {
    "slideshow": {
     "slide_type": "slide"
    }
   },
   "source": [
    "<img src=\"figs/ku_logo_uk_v.png\" alt=\"drawing\" width=\"130\" style=\"float:right\"/>\n",
    "\n",
    "## <p style=\"text-align: center;\">Pulling using Terminal/Prompt</p>\n",
    "1. Important: always have a working folder and a folder that you pull changes to!\n",
    "2. Open Terminal/Prompt\n",
    "3. Change directory to the Git folder by entering `cd User/Desktop/Git_folder`\n",
    "4. Enter `git pull`\n",
    "5. Your folder is now up to date"
   ]
  },
  {
   "cell_type": "markdown",
   "id": "acquired-confidentiality",
   "metadata": {
    "slideshow": {
     "slide_type": "slide"
    }
   },
   "source": [
    "<img src=\"figs/ku_logo_uk_v.png\" alt=\"drawing\" width=\"130\" style=\"float:right\"/>\n",
    "\n",
    "## <p style=\"text-align: center;\">Getting help</p>\n",
    "* Go into the main meeting and tell me to join your channel\n",
    "* If im not there, leave a @Victor comment in the main meeting such that i get a notification"
   ]
  },
  {
   "cell_type": "markdown",
   "id": "moving-brief",
   "metadata": {
    "slideshow": {
     "slide_type": "slide"
    }
   },
   "source": [
    "<img src=\"figs/ku_logo_uk_v.png\" alt=\"drawing\" width=\"130\" style=\"float:right\"/>\n",
    "\n",
    "## <p style=\"text-align: center;\">Working on PS2</p>\n",
    "Focus on \n",
    "* 2.3 (interactive figure)\n",
    "* 2.5 (creating modules)\n",
    "* 2.6 (git)\n",
    "* 3 (exchange economy)\n"
   ]
  }
 ],
 "metadata": {
  "celltoolbar": "Slideshow",
  "kernelspec": {
   "display_name": "Python 3",
   "language": "python",
   "name": "python3"
  },
  "language_info": {
   "codemirror_mode": {
    "name": "ipython",
    "version": 3
   },
   "file_extension": ".py",
   "mimetype": "text/x-python",
   "name": "python",
   "nbconvert_exporter": "python",
   "pygments_lexer": "ipython3",
   "version": "3.8.5"
  }
 },
 "nbformat": 4,
 "nbformat_minor": 5
}
